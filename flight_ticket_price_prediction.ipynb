{
  "nbformat": 4,
  "nbformat_minor": 0,
  "metadata": {
    "colab": {
      "provenance": [],
      "mount_file_id": "1MSJBd-cxn7u9NRb_ZSX2vWAYHk4Sb_aI",
      "authorship_tag": "ABX9TyMtPuVFbp555GJfljsHMY1W",
      "include_colab_link": true
    },
    "kernelspec": {
      "name": "python3",
      "display_name": "Python 3"
    },
    "language_info": {
      "name": "python"
    }
  },
  "cells": [
    {
      "cell_type": "markdown",
      "metadata": {
        "id": "view-in-github",
        "colab_type": "text"
      },
      "source": [
        "<a href=\"https://colab.research.google.com/github/abinayasvam1/Tkinter-/blob/main/flight_ticket_price_prediction.ipynb\" target=\"_parent\"><img src=\"https://colab.research.google.com/assets/colab-badge.svg\" alt=\"Open In Colab\"/></a>"
      ]
    },
    {
      "cell_type": "code",
      "source": [
        "# for data reading and data manipulation\n",
        "import numpy as np\n",
        "import pandas as pd\n",
        "import statistics as st\n",
        "\n",
        "# for data visualization\n",
        "import matplotlib.pyplot as plt\n",
        "import seaborn as sns\n",
        "\n",
        "# for model creation and model evaluation\n",
        "from sklearn.model_selection import train_test_split\n",
        "from sklearn.model_selection import cross_val_score\n",
        "from sklearn.preprocessing import StandardScaler\n",
        "from sklearn.linear_model import LinearRegression"
      ],
      "metadata": {
        "id": "KPUPfOUlsdd4"
      },
      "execution_count": 2,
      "outputs": []
    },
    {
      "cell_type": "code",
      "source": [
        "path = \"/content/drive/MyDrive/train-2.csv\"\n",
        "df = pd.read_csv(path)\n",
        "pd.set_option('display.max_columns',None)\n",
        "df.head()"
      ],
      "metadata": {
        "colab": {
          "base_uri": "https://localhost:8080/",
          "height": 244
        },
        "id": "NqKqhfT1skwR",
        "outputId": "034c3b47-ac26-472d-9391-f22ecb60d912"
      },
      "execution_count": 4,
      "outputs": [
        {
          "output_type": "execute_result",
          "data": {
            "text/plain": [
              "  Flight_ID    Airline    Departure_City     Arrival_City  Distance  \\\n",
              "0        F1  Airline B               NaN       Greenshire    8286.0   \n",
              "1        F2  Airline C       Leonardland      New Stephen    2942.0   \n",
              "2        F3  Airline B  South Dylanville  Port Ambermouth    2468.0   \n",
              "3        F4        NaN         Blakefort       Crosbyberg    3145.0   \n",
              "4        F5  Airline B       Michaelport     Onealborough    5558.0   \n",
              "\n",
              "  Departure_Time Arrival_Time  Duration Aircraft_Type  Number_of_Stops  \\\n",
              "0           8:23        20:19     11.94    Boeing 787                0   \n",
              "1          20:28         1:45      5.29   Airbus A320                0   \n",
              "2          11:30        15:54      4.41    Boeing 787                1   \n",
              "3          20:24         1:21      4.96    Boeing 787                0   \n",
              "4          21:59         6:04      8.09    Boeing 737                1   \n",
              "\n",
              "  Day_of_Week Month_of_Travel Holiday_Season Demand Weather_Conditions  \\\n",
              "0   Wednesday        December         Summer    Low               Rain   \n",
              "1   Wednesday           March         Spring    Low               Rain   \n",
              "2      Sunday       September         Summer   High             Cloudy   \n",
              "3      Sunday        February           Fall    Low             Cloudy   \n",
              "4    Thursday         January           None    NaN              Clear   \n",
              "\n",
              "   Passenger_Count Promotion_Type  Fuel_Price  Flight_Price  \n",
              "0              240  Special Offer        0.91        643.93  \n",
              "1              107           None        1.08        423.13  \n",
              "2              131            NaN        0.52        442.17  \n",
              "3              170       Discount        0.71        394.42  \n",
              "4              181           None        1.09        804.35  "
            ],
            "text/html": [
              "\n",
              "  <div id=\"df-aa886932-011b-445c-9b25-58be5f1bee99\" class=\"colab-df-container\">\n",
              "    <div>\n",
              "<style scoped>\n",
              "    .dataframe tbody tr th:only-of-type {\n",
              "        vertical-align: middle;\n",
              "    }\n",
              "\n",
              "    .dataframe tbody tr th {\n",
              "        vertical-align: top;\n",
              "    }\n",
              "\n",
              "    .dataframe thead th {\n",
              "        text-align: right;\n",
              "    }\n",
              "</style>\n",
              "<table border=\"1\" class=\"dataframe\">\n",
              "  <thead>\n",
              "    <tr style=\"text-align: right;\">\n",
              "      <th></th>\n",
              "      <th>Flight_ID</th>\n",
              "      <th>Airline</th>\n",
              "      <th>Departure_City</th>\n",
              "      <th>Arrival_City</th>\n",
              "      <th>Distance</th>\n",
              "      <th>Departure_Time</th>\n",
              "      <th>Arrival_Time</th>\n",
              "      <th>Duration</th>\n",
              "      <th>Aircraft_Type</th>\n",
              "      <th>Number_of_Stops</th>\n",
              "      <th>Day_of_Week</th>\n",
              "      <th>Month_of_Travel</th>\n",
              "      <th>Holiday_Season</th>\n",
              "      <th>Demand</th>\n",
              "      <th>Weather_Conditions</th>\n",
              "      <th>Passenger_Count</th>\n",
              "      <th>Promotion_Type</th>\n",
              "      <th>Fuel_Price</th>\n",
              "      <th>Flight_Price</th>\n",
              "    </tr>\n",
              "  </thead>\n",
              "  <tbody>\n",
              "    <tr>\n",
              "      <th>0</th>\n",
              "      <td>F1</td>\n",
              "      <td>Airline B</td>\n",
              "      <td>NaN</td>\n",
              "      <td>Greenshire</td>\n",
              "      <td>8286.0</td>\n",
              "      <td>8:23</td>\n",
              "      <td>20:19</td>\n",
              "      <td>11.94</td>\n",
              "      <td>Boeing 787</td>\n",
              "      <td>0</td>\n",
              "      <td>Wednesday</td>\n",
              "      <td>December</td>\n",
              "      <td>Summer</td>\n",
              "      <td>Low</td>\n",
              "      <td>Rain</td>\n",
              "      <td>240</td>\n",
              "      <td>Special Offer</td>\n",
              "      <td>0.91</td>\n",
              "      <td>643.93</td>\n",
              "    </tr>\n",
              "    <tr>\n",
              "      <th>1</th>\n",
              "      <td>F2</td>\n",
              "      <td>Airline C</td>\n",
              "      <td>Leonardland</td>\n",
              "      <td>New Stephen</td>\n",
              "      <td>2942.0</td>\n",
              "      <td>20:28</td>\n",
              "      <td>1:45</td>\n",
              "      <td>5.29</td>\n",
              "      <td>Airbus A320</td>\n",
              "      <td>0</td>\n",
              "      <td>Wednesday</td>\n",
              "      <td>March</td>\n",
              "      <td>Spring</td>\n",
              "      <td>Low</td>\n",
              "      <td>Rain</td>\n",
              "      <td>107</td>\n",
              "      <td>None</td>\n",
              "      <td>1.08</td>\n",
              "      <td>423.13</td>\n",
              "    </tr>\n",
              "    <tr>\n",
              "      <th>2</th>\n",
              "      <td>F3</td>\n",
              "      <td>Airline B</td>\n",
              "      <td>South Dylanville</td>\n",
              "      <td>Port Ambermouth</td>\n",
              "      <td>2468.0</td>\n",
              "      <td>11:30</td>\n",
              "      <td>15:54</td>\n",
              "      <td>4.41</td>\n",
              "      <td>Boeing 787</td>\n",
              "      <td>1</td>\n",
              "      <td>Sunday</td>\n",
              "      <td>September</td>\n",
              "      <td>Summer</td>\n",
              "      <td>High</td>\n",
              "      <td>Cloudy</td>\n",
              "      <td>131</td>\n",
              "      <td>NaN</td>\n",
              "      <td>0.52</td>\n",
              "      <td>442.17</td>\n",
              "    </tr>\n",
              "    <tr>\n",
              "      <th>3</th>\n",
              "      <td>F4</td>\n",
              "      <td>NaN</td>\n",
              "      <td>Blakefort</td>\n",
              "      <td>Crosbyberg</td>\n",
              "      <td>3145.0</td>\n",
              "      <td>20:24</td>\n",
              "      <td>1:21</td>\n",
              "      <td>4.96</td>\n",
              "      <td>Boeing 787</td>\n",
              "      <td>0</td>\n",
              "      <td>Sunday</td>\n",
              "      <td>February</td>\n",
              "      <td>Fall</td>\n",
              "      <td>Low</td>\n",
              "      <td>Cloudy</td>\n",
              "      <td>170</td>\n",
              "      <td>Discount</td>\n",
              "      <td>0.71</td>\n",
              "      <td>394.42</td>\n",
              "    </tr>\n",
              "    <tr>\n",
              "      <th>4</th>\n",
              "      <td>F5</td>\n",
              "      <td>Airline B</td>\n",
              "      <td>Michaelport</td>\n",
              "      <td>Onealborough</td>\n",
              "      <td>5558.0</td>\n",
              "      <td>21:59</td>\n",
              "      <td>6:04</td>\n",
              "      <td>8.09</td>\n",
              "      <td>Boeing 737</td>\n",
              "      <td>1</td>\n",
              "      <td>Thursday</td>\n",
              "      <td>January</td>\n",
              "      <td>None</td>\n",
              "      <td>NaN</td>\n",
              "      <td>Clear</td>\n",
              "      <td>181</td>\n",
              "      <td>None</td>\n",
              "      <td>1.09</td>\n",
              "      <td>804.35</td>\n",
              "    </tr>\n",
              "  </tbody>\n",
              "</table>\n",
              "</div>\n",
              "    <div class=\"colab-df-buttons\">\n",
              "\n",
              "  <div class=\"colab-df-container\">\n",
              "    <button class=\"colab-df-convert\" onclick=\"convertToInteractive('df-aa886932-011b-445c-9b25-58be5f1bee99')\"\n",
              "            title=\"Convert this dataframe to an interactive table.\"\n",
              "            style=\"display:none;\">\n",
              "\n",
              "  <svg xmlns=\"http://www.w3.org/2000/svg\" height=\"24px\" viewBox=\"0 -960 960 960\">\n",
              "    <path d=\"M120-120v-720h720v720H120Zm60-500h600v-160H180v160Zm220 220h160v-160H400v160Zm0 220h160v-160H400v160ZM180-400h160v-160H180v160Zm440 0h160v-160H620v160ZM180-180h160v-160H180v160Zm440 0h160v-160H620v160Z\"/>\n",
              "  </svg>\n",
              "    </button>\n",
              "\n",
              "  <style>\n",
              "    .colab-df-container {\n",
              "      display:flex;\n",
              "      gap: 12px;\n",
              "    }\n",
              "\n",
              "    .colab-df-convert {\n",
              "      background-color: #E8F0FE;\n",
              "      border: none;\n",
              "      border-radius: 50%;\n",
              "      cursor: pointer;\n",
              "      display: none;\n",
              "      fill: #1967D2;\n",
              "      height: 32px;\n",
              "      padding: 0 0 0 0;\n",
              "      width: 32px;\n",
              "    }\n",
              "\n",
              "    .colab-df-convert:hover {\n",
              "      background-color: #E2EBFA;\n",
              "      box-shadow: 0px 1px 2px rgba(60, 64, 67, 0.3), 0px 1px 3px 1px rgba(60, 64, 67, 0.15);\n",
              "      fill: #174EA6;\n",
              "    }\n",
              "\n",
              "    .colab-df-buttons div {\n",
              "      margin-bottom: 4px;\n",
              "    }\n",
              "\n",
              "    [theme=dark] .colab-df-convert {\n",
              "      background-color: #3B4455;\n",
              "      fill: #D2E3FC;\n",
              "    }\n",
              "\n",
              "    [theme=dark] .colab-df-convert:hover {\n",
              "      background-color: #434B5C;\n",
              "      box-shadow: 0px 1px 3px 1px rgba(0, 0, 0, 0.15);\n",
              "      filter: drop-shadow(0px 1px 2px rgba(0, 0, 0, 0.3));\n",
              "      fill: #FFFFFF;\n",
              "    }\n",
              "  </style>\n",
              "\n",
              "    <script>\n",
              "      const buttonEl =\n",
              "        document.querySelector('#df-aa886932-011b-445c-9b25-58be5f1bee99 button.colab-df-convert');\n",
              "      buttonEl.style.display =\n",
              "        google.colab.kernel.accessAllowed ? 'block' : 'none';\n",
              "\n",
              "      async function convertToInteractive(key) {\n",
              "        const element = document.querySelector('#df-aa886932-011b-445c-9b25-58be5f1bee99');\n",
              "        const dataTable =\n",
              "          await google.colab.kernel.invokeFunction('convertToInteractive',\n",
              "                                                    [key], {});\n",
              "        if (!dataTable) return;\n",
              "\n",
              "        const docLinkHtml = 'Like what you see? Visit the ' +\n",
              "          '<a target=\"_blank\" href=https://colab.research.google.com/notebooks/data_table.ipynb>data table notebook</a>'\n",
              "          + ' to learn more about interactive tables.';\n",
              "        element.innerHTML = '';\n",
              "        dataTable['output_type'] = 'display_data';\n",
              "        await google.colab.output.renderOutput(dataTable, element);\n",
              "        const docLink = document.createElement('div');\n",
              "        docLink.innerHTML = docLinkHtml;\n",
              "        element.appendChild(docLink);\n",
              "      }\n",
              "    </script>\n",
              "  </div>\n",
              "\n",
              "\n",
              "<div id=\"df-40dd4909-05c2-42d1-abd0-92948b4245ed\">\n",
              "  <button class=\"colab-df-quickchart\" onclick=\"quickchart('df-40dd4909-05c2-42d1-abd0-92948b4245ed')\"\n",
              "            title=\"Suggest charts.\"\n",
              "            style=\"display:none;\">\n",
              "\n",
              "<svg xmlns=\"http://www.w3.org/2000/svg\" height=\"24px\"viewBox=\"0 0 24 24\"\n",
              "     width=\"24px\">\n",
              "    <g>\n",
              "        <path d=\"M19 3H5c-1.1 0-2 .9-2 2v14c0 1.1.9 2 2 2h14c1.1 0 2-.9 2-2V5c0-1.1-.9-2-2-2zM9 17H7v-7h2v7zm4 0h-2V7h2v10zm4 0h-2v-4h2v4z\"/>\n",
              "    </g>\n",
              "</svg>\n",
              "  </button>\n",
              "\n",
              "<style>\n",
              "  .colab-df-quickchart {\n",
              "      --bg-color: #E8F0FE;\n",
              "      --fill-color: #1967D2;\n",
              "      --hover-bg-color: #E2EBFA;\n",
              "      --hover-fill-color: #174EA6;\n",
              "      --disabled-fill-color: #AAA;\n",
              "      --disabled-bg-color: #DDD;\n",
              "  }\n",
              "\n",
              "  [theme=dark] .colab-df-quickchart {\n",
              "      --bg-color: #3B4455;\n",
              "      --fill-color: #D2E3FC;\n",
              "      --hover-bg-color: #434B5C;\n",
              "      --hover-fill-color: #FFFFFF;\n",
              "      --disabled-bg-color: #3B4455;\n",
              "      --disabled-fill-color: #666;\n",
              "  }\n",
              "\n",
              "  .colab-df-quickchart {\n",
              "    background-color: var(--bg-color);\n",
              "    border: none;\n",
              "    border-radius: 50%;\n",
              "    cursor: pointer;\n",
              "    display: none;\n",
              "    fill: var(--fill-color);\n",
              "    height: 32px;\n",
              "    padding: 0;\n",
              "    width: 32px;\n",
              "  }\n",
              "\n",
              "  .colab-df-quickchart:hover {\n",
              "    background-color: var(--hover-bg-color);\n",
              "    box-shadow: 0 1px 2px rgba(60, 64, 67, 0.3), 0 1px 3px 1px rgba(60, 64, 67, 0.15);\n",
              "    fill: var(--button-hover-fill-color);\n",
              "  }\n",
              "\n",
              "  .colab-df-quickchart-complete:disabled,\n",
              "  .colab-df-quickchart-complete:disabled:hover {\n",
              "    background-color: var(--disabled-bg-color);\n",
              "    fill: var(--disabled-fill-color);\n",
              "    box-shadow: none;\n",
              "  }\n",
              "\n",
              "  .colab-df-spinner {\n",
              "    border: 2px solid var(--fill-color);\n",
              "    border-color: transparent;\n",
              "    border-bottom-color: var(--fill-color);\n",
              "    animation:\n",
              "      spin 1s steps(1) infinite;\n",
              "  }\n",
              "\n",
              "  @keyframes spin {\n",
              "    0% {\n",
              "      border-color: transparent;\n",
              "      border-bottom-color: var(--fill-color);\n",
              "      border-left-color: var(--fill-color);\n",
              "    }\n",
              "    20% {\n",
              "      border-color: transparent;\n",
              "      border-left-color: var(--fill-color);\n",
              "      border-top-color: var(--fill-color);\n",
              "    }\n",
              "    30% {\n",
              "      border-color: transparent;\n",
              "      border-left-color: var(--fill-color);\n",
              "      border-top-color: var(--fill-color);\n",
              "      border-right-color: var(--fill-color);\n",
              "    }\n",
              "    40% {\n",
              "      border-color: transparent;\n",
              "      border-right-color: var(--fill-color);\n",
              "      border-top-color: var(--fill-color);\n",
              "    }\n",
              "    60% {\n",
              "      border-color: transparent;\n",
              "      border-right-color: var(--fill-color);\n",
              "    }\n",
              "    80% {\n",
              "      border-color: transparent;\n",
              "      border-right-color: var(--fill-color);\n",
              "      border-bottom-color: var(--fill-color);\n",
              "    }\n",
              "    90% {\n",
              "      border-color: transparent;\n",
              "      border-bottom-color: var(--fill-color);\n",
              "    }\n",
              "  }\n",
              "</style>\n",
              "\n",
              "  <script>\n",
              "    async function quickchart(key) {\n",
              "      const quickchartButtonEl =\n",
              "        document.querySelector('#' + key + ' button');\n",
              "      quickchartButtonEl.disabled = true;  // To prevent multiple clicks.\n",
              "      quickchartButtonEl.classList.add('colab-df-spinner');\n",
              "      try {\n",
              "        const charts = await google.colab.kernel.invokeFunction(\n",
              "            'suggestCharts', [key], {});\n",
              "      } catch (error) {\n",
              "        console.error('Error during call to suggestCharts:', error);\n",
              "      }\n",
              "      quickchartButtonEl.classList.remove('colab-df-spinner');\n",
              "      quickchartButtonEl.classList.add('colab-df-quickchart-complete');\n",
              "    }\n",
              "    (() => {\n",
              "      let quickchartButtonEl =\n",
              "        document.querySelector('#df-40dd4909-05c2-42d1-abd0-92948b4245ed button');\n",
              "      quickchartButtonEl.style.display =\n",
              "        google.colab.kernel.accessAllowed ? 'block' : 'none';\n",
              "    })();\n",
              "  </script>\n",
              "</div>\n",
              "    </div>\n",
              "  </div>\n"
            ]
          },
          "metadata": {},
          "execution_count": 4
        }
      ]
    },
    {
      "cell_type": "code",
      "source": [
        "df.shape"
      ],
      "metadata": {
        "colab": {
          "base_uri": "https://localhost:8080/"
        },
        "id": "JC0-ar0guUrk",
        "outputId": "eb4e3d49-b16d-4dea-db4e-6cc5ca6a3f12"
      },
      "execution_count": 5,
      "outputs": [
        {
          "output_type": "execute_result",
          "data": {
            "text/plain": [
              "(45000, 19)"
            ]
          },
          "metadata": {},
          "execution_count": 5
        }
      ]
    },
    {
      "cell_type": "markdown",
      "source": [
        "As the names of all the columns in the DataFrame are in CAPS, I would like to rename all the columns to it's lower_case form,\n",
        "\n",
        "So later it would be efficient for me to work with the dataframe. For this I will create a function 'rename_cols'."
      ],
      "metadata": {
        "id": "-DlxAKUawnh3"
      }
    },
    {
      "cell_type": "code",
      "source": [
        "df.columns = [column.lower() for column in df.columns]"
      ],
      "metadata": {
        "id": "m_WO7rVcwrAE"
      },
      "execution_count": 7,
      "outputs": []
    },
    {
      "cell_type": "code",
      "source": [
        "df.columns"
      ],
      "metadata": {
        "colab": {
          "base_uri": "https://localhost:8080/"
        },
        "id": "yT4x2b59uz4D",
        "outputId": "028a41c8-ab3f-4713-997a-65f4c8d571a2"
      },
      "execution_count": 6,
      "outputs": [
        {
          "output_type": "execute_result",
          "data": {
            "text/plain": [
              "Index(['Flight_ID', 'Airline', 'Departure_City', 'Arrival_City', 'Distance',\n",
              "       'Departure_Time', 'Arrival_Time', 'Duration', 'Aircraft_Type',\n",
              "       'Number_of_Stops', 'Day_of_Week', 'Month_of_Travel', 'Holiday_Season',\n",
              "       'Demand', 'Weather_Conditions', 'Passenger_Count', 'Promotion_Type',\n",
              "       'Fuel_Price', 'Flight_Price'],\n",
              "      dtype='object')"
            ]
          },
          "metadata": {},
          "execution_count": 6
        }
      ]
    },
    {
      "cell_type": "code",
      "source": [
        "df.head()"
      ],
      "metadata": {
        "colab": {
          "base_uri": "https://localhost:8080/",
          "height": 244
        },
        "id": "8Xjb4_Ngw2W8",
        "outputId": "3c27c236-974a-4702-9f7e-49b795faa914"
      },
      "execution_count": 8,
      "outputs": [
        {
          "output_type": "execute_result",
          "data": {
            "text/plain": [
              "  flight_id    airline    departure_city     arrival_city  distance  \\\n",
              "0        F1  Airline B               NaN       Greenshire    8286.0   \n",
              "1        F2  Airline C       Leonardland      New Stephen    2942.0   \n",
              "2        F3  Airline B  South Dylanville  Port Ambermouth    2468.0   \n",
              "3        F4        NaN         Blakefort       Crosbyberg    3145.0   \n",
              "4        F5  Airline B       Michaelport     Onealborough    5558.0   \n",
              "\n",
              "  departure_time arrival_time  duration aircraft_type  number_of_stops  \\\n",
              "0           8:23        20:19     11.94    Boeing 787                0   \n",
              "1          20:28         1:45      5.29   Airbus A320                0   \n",
              "2          11:30        15:54      4.41    Boeing 787                1   \n",
              "3          20:24         1:21      4.96    Boeing 787                0   \n",
              "4          21:59         6:04      8.09    Boeing 737                1   \n",
              "\n",
              "  day_of_week month_of_travel holiday_season demand weather_conditions  \\\n",
              "0   Wednesday        December         Summer    Low               Rain   \n",
              "1   Wednesday           March         Spring    Low               Rain   \n",
              "2      Sunday       September         Summer   High             Cloudy   \n",
              "3      Sunday        February           Fall    Low             Cloudy   \n",
              "4    Thursday         January           None    NaN              Clear   \n",
              "\n",
              "   passenger_count promotion_type  fuel_price  flight_price  \n",
              "0              240  Special Offer        0.91        643.93  \n",
              "1              107           None        1.08        423.13  \n",
              "2              131            NaN        0.52        442.17  \n",
              "3              170       Discount        0.71        394.42  \n",
              "4              181           None        1.09        804.35  "
            ],
            "text/html": [
              "\n",
              "  <div id=\"df-81becfe3-c5ad-4544-b96c-03813a7bb5ab\" class=\"colab-df-container\">\n",
              "    <div>\n",
              "<style scoped>\n",
              "    .dataframe tbody tr th:only-of-type {\n",
              "        vertical-align: middle;\n",
              "    }\n",
              "\n",
              "    .dataframe tbody tr th {\n",
              "        vertical-align: top;\n",
              "    }\n",
              "\n",
              "    .dataframe thead th {\n",
              "        text-align: right;\n",
              "    }\n",
              "</style>\n",
              "<table border=\"1\" class=\"dataframe\">\n",
              "  <thead>\n",
              "    <tr style=\"text-align: right;\">\n",
              "      <th></th>\n",
              "      <th>flight_id</th>\n",
              "      <th>airline</th>\n",
              "      <th>departure_city</th>\n",
              "      <th>arrival_city</th>\n",
              "      <th>distance</th>\n",
              "      <th>departure_time</th>\n",
              "      <th>arrival_time</th>\n",
              "      <th>duration</th>\n",
              "      <th>aircraft_type</th>\n",
              "      <th>number_of_stops</th>\n",
              "      <th>day_of_week</th>\n",
              "      <th>month_of_travel</th>\n",
              "      <th>holiday_season</th>\n",
              "      <th>demand</th>\n",
              "      <th>weather_conditions</th>\n",
              "      <th>passenger_count</th>\n",
              "      <th>promotion_type</th>\n",
              "      <th>fuel_price</th>\n",
              "      <th>flight_price</th>\n",
              "    </tr>\n",
              "  </thead>\n",
              "  <tbody>\n",
              "    <tr>\n",
              "      <th>0</th>\n",
              "      <td>F1</td>\n",
              "      <td>Airline B</td>\n",
              "      <td>NaN</td>\n",
              "      <td>Greenshire</td>\n",
              "      <td>8286.0</td>\n",
              "      <td>8:23</td>\n",
              "      <td>20:19</td>\n",
              "      <td>11.94</td>\n",
              "      <td>Boeing 787</td>\n",
              "      <td>0</td>\n",
              "      <td>Wednesday</td>\n",
              "      <td>December</td>\n",
              "      <td>Summer</td>\n",
              "      <td>Low</td>\n",
              "      <td>Rain</td>\n",
              "      <td>240</td>\n",
              "      <td>Special Offer</td>\n",
              "      <td>0.91</td>\n",
              "      <td>643.93</td>\n",
              "    </tr>\n",
              "    <tr>\n",
              "      <th>1</th>\n",
              "      <td>F2</td>\n",
              "      <td>Airline C</td>\n",
              "      <td>Leonardland</td>\n",
              "      <td>New Stephen</td>\n",
              "      <td>2942.0</td>\n",
              "      <td>20:28</td>\n",
              "      <td>1:45</td>\n",
              "      <td>5.29</td>\n",
              "      <td>Airbus A320</td>\n",
              "      <td>0</td>\n",
              "      <td>Wednesday</td>\n",
              "      <td>March</td>\n",
              "      <td>Spring</td>\n",
              "      <td>Low</td>\n",
              "      <td>Rain</td>\n",
              "      <td>107</td>\n",
              "      <td>None</td>\n",
              "      <td>1.08</td>\n",
              "      <td>423.13</td>\n",
              "    </tr>\n",
              "    <tr>\n",
              "      <th>2</th>\n",
              "      <td>F3</td>\n",
              "      <td>Airline B</td>\n",
              "      <td>South Dylanville</td>\n",
              "      <td>Port Ambermouth</td>\n",
              "      <td>2468.0</td>\n",
              "      <td>11:30</td>\n",
              "      <td>15:54</td>\n",
              "      <td>4.41</td>\n",
              "      <td>Boeing 787</td>\n",
              "      <td>1</td>\n",
              "      <td>Sunday</td>\n",
              "      <td>September</td>\n",
              "      <td>Summer</td>\n",
              "      <td>High</td>\n",
              "      <td>Cloudy</td>\n",
              "      <td>131</td>\n",
              "      <td>NaN</td>\n",
              "      <td>0.52</td>\n",
              "      <td>442.17</td>\n",
              "    </tr>\n",
              "    <tr>\n",
              "      <th>3</th>\n",
              "      <td>F4</td>\n",
              "      <td>NaN</td>\n",
              "      <td>Blakefort</td>\n",
              "      <td>Crosbyberg</td>\n",
              "      <td>3145.0</td>\n",
              "      <td>20:24</td>\n",
              "      <td>1:21</td>\n",
              "      <td>4.96</td>\n",
              "      <td>Boeing 787</td>\n",
              "      <td>0</td>\n",
              "      <td>Sunday</td>\n",
              "      <td>February</td>\n",
              "      <td>Fall</td>\n",
              "      <td>Low</td>\n",
              "      <td>Cloudy</td>\n",
              "      <td>170</td>\n",
              "      <td>Discount</td>\n",
              "      <td>0.71</td>\n",
              "      <td>394.42</td>\n",
              "    </tr>\n",
              "    <tr>\n",
              "      <th>4</th>\n",
              "      <td>F5</td>\n",
              "      <td>Airline B</td>\n",
              "      <td>Michaelport</td>\n",
              "      <td>Onealborough</td>\n",
              "      <td>5558.0</td>\n",
              "      <td>21:59</td>\n",
              "      <td>6:04</td>\n",
              "      <td>8.09</td>\n",
              "      <td>Boeing 737</td>\n",
              "      <td>1</td>\n",
              "      <td>Thursday</td>\n",
              "      <td>January</td>\n",
              "      <td>None</td>\n",
              "      <td>NaN</td>\n",
              "      <td>Clear</td>\n",
              "      <td>181</td>\n",
              "      <td>None</td>\n",
              "      <td>1.09</td>\n",
              "      <td>804.35</td>\n",
              "    </tr>\n",
              "  </tbody>\n",
              "</table>\n",
              "</div>\n",
              "    <div class=\"colab-df-buttons\">\n",
              "\n",
              "  <div class=\"colab-df-container\">\n",
              "    <button class=\"colab-df-convert\" onclick=\"convertToInteractive('df-81becfe3-c5ad-4544-b96c-03813a7bb5ab')\"\n",
              "            title=\"Convert this dataframe to an interactive table.\"\n",
              "            style=\"display:none;\">\n",
              "\n",
              "  <svg xmlns=\"http://www.w3.org/2000/svg\" height=\"24px\" viewBox=\"0 -960 960 960\">\n",
              "    <path d=\"M120-120v-720h720v720H120Zm60-500h600v-160H180v160Zm220 220h160v-160H400v160Zm0 220h160v-160H400v160ZM180-400h160v-160H180v160Zm440 0h160v-160H620v160ZM180-180h160v-160H180v160Zm440 0h160v-160H620v160Z\"/>\n",
              "  </svg>\n",
              "    </button>\n",
              "\n",
              "  <style>\n",
              "    .colab-df-container {\n",
              "      display:flex;\n",
              "      gap: 12px;\n",
              "    }\n",
              "\n",
              "    .colab-df-convert {\n",
              "      background-color: #E8F0FE;\n",
              "      border: none;\n",
              "      border-radius: 50%;\n",
              "      cursor: pointer;\n",
              "      display: none;\n",
              "      fill: #1967D2;\n",
              "      height: 32px;\n",
              "      padding: 0 0 0 0;\n",
              "      width: 32px;\n",
              "    }\n",
              "\n",
              "    .colab-df-convert:hover {\n",
              "      background-color: #E2EBFA;\n",
              "      box-shadow: 0px 1px 2px rgba(60, 64, 67, 0.3), 0px 1px 3px 1px rgba(60, 64, 67, 0.15);\n",
              "      fill: #174EA6;\n",
              "    }\n",
              "\n",
              "    .colab-df-buttons div {\n",
              "      margin-bottom: 4px;\n",
              "    }\n",
              "\n",
              "    [theme=dark] .colab-df-convert {\n",
              "      background-color: #3B4455;\n",
              "      fill: #D2E3FC;\n",
              "    }\n",
              "\n",
              "    [theme=dark] .colab-df-convert:hover {\n",
              "      background-color: #434B5C;\n",
              "      box-shadow: 0px 1px 3px 1px rgba(0, 0, 0, 0.15);\n",
              "      filter: drop-shadow(0px 1px 2px rgba(0, 0, 0, 0.3));\n",
              "      fill: #FFFFFF;\n",
              "    }\n",
              "  </style>\n",
              "\n",
              "    <script>\n",
              "      const buttonEl =\n",
              "        document.querySelector('#df-81becfe3-c5ad-4544-b96c-03813a7bb5ab button.colab-df-convert');\n",
              "      buttonEl.style.display =\n",
              "        google.colab.kernel.accessAllowed ? 'block' : 'none';\n",
              "\n",
              "      async function convertToInteractive(key) {\n",
              "        const element = document.querySelector('#df-81becfe3-c5ad-4544-b96c-03813a7bb5ab');\n",
              "        const dataTable =\n",
              "          await google.colab.kernel.invokeFunction('convertToInteractive',\n",
              "                                                    [key], {});\n",
              "        if (!dataTable) return;\n",
              "\n",
              "        const docLinkHtml = 'Like what you see? Visit the ' +\n",
              "          '<a target=\"_blank\" href=https://colab.research.google.com/notebooks/data_table.ipynb>data table notebook</a>'\n",
              "          + ' to learn more about interactive tables.';\n",
              "        element.innerHTML = '';\n",
              "        dataTable['output_type'] = 'display_data';\n",
              "        await google.colab.output.renderOutput(dataTable, element);\n",
              "        const docLink = document.createElement('div');\n",
              "        docLink.innerHTML = docLinkHtml;\n",
              "        element.appendChild(docLink);\n",
              "      }\n",
              "    </script>\n",
              "  </div>\n",
              "\n",
              "\n",
              "<div id=\"df-1dacc4a0-acd7-4d6b-b376-ecb87e9e6e96\">\n",
              "  <button class=\"colab-df-quickchart\" onclick=\"quickchart('df-1dacc4a0-acd7-4d6b-b376-ecb87e9e6e96')\"\n",
              "            title=\"Suggest charts.\"\n",
              "            style=\"display:none;\">\n",
              "\n",
              "<svg xmlns=\"http://www.w3.org/2000/svg\" height=\"24px\"viewBox=\"0 0 24 24\"\n",
              "     width=\"24px\">\n",
              "    <g>\n",
              "        <path d=\"M19 3H5c-1.1 0-2 .9-2 2v14c0 1.1.9 2 2 2h14c1.1 0 2-.9 2-2V5c0-1.1-.9-2-2-2zM9 17H7v-7h2v7zm4 0h-2V7h2v10zm4 0h-2v-4h2v4z\"/>\n",
              "    </g>\n",
              "</svg>\n",
              "  </button>\n",
              "\n",
              "<style>\n",
              "  .colab-df-quickchart {\n",
              "      --bg-color: #E8F0FE;\n",
              "      --fill-color: #1967D2;\n",
              "      --hover-bg-color: #E2EBFA;\n",
              "      --hover-fill-color: #174EA6;\n",
              "      --disabled-fill-color: #AAA;\n",
              "      --disabled-bg-color: #DDD;\n",
              "  }\n",
              "\n",
              "  [theme=dark] .colab-df-quickchart {\n",
              "      --bg-color: #3B4455;\n",
              "      --fill-color: #D2E3FC;\n",
              "      --hover-bg-color: #434B5C;\n",
              "      --hover-fill-color: #FFFFFF;\n",
              "      --disabled-bg-color: #3B4455;\n",
              "      --disabled-fill-color: #666;\n",
              "  }\n",
              "\n",
              "  .colab-df-quickchart {\n",
              "    background-color: var(--bg-color);\n",
              "    border: none;\n",
              "    border-radius: 50%;\n",
              "    cursor: pointer;\n",
              "    display: none;\n",
              "    fill: var(--fill-color);\n",
              "    height: 32px;\n",
              "    padding: 0;\n",
              "    width: 32px;\n",
              "  }\n",
              "\n",
              "  .colab-df-quickchart:hover {\n",
              "    background-color: var(--hover-bg-color);\n",
              "    box-shadow: 0 1px 2px rgba(60, 64, 67, 0.3), 0 1px 3px 1px rgba(60, 64, 67, 0.15);\n",
              "    fill: var(--button-hover-fill-color);\n",
              "  }\n",
              "\n",
              "  .colab-df-quickchart-complete:disabled,\n",
              "  .colab-df-quickchart-complete:disabled:hover {\n",
              "    background-color: var(--disabled-bg-color);\n",
              "    fill: var(--disabled-fill-color);\n",
              "    box-shadow: none;\n",
              "  }\n",
              "\n",
              "  .colab-df-spinner {\n",
              "    border: 2px solid var(--fill-color);\n",
              "    border-color: transparent;\n",
              "    border-bottom-color: var(--fill-color);\n",
              "    animation:\n",
              "      spin 1s steps(1) infinite;\n",
              "  }\n",
              "\n",
              "  @keyframes spin {\n",
              "    0% {\n",
              "      border-color: transparent;\n",
              "      border-bottom-color: var(--fill-color);\n",
              "      border-left-color: var(--fill-color);\n",
              "    }\n",
              "    20% {\n",
              "      border-color: transparent;\n",
              "      border-left-color: var(--fill-color);\n",
              "      border-top-color: var(--fill-color);\n",
              "    }\n",
              "    30% {\n",
              "      border-color: transparent;\n",
              "      border-left-color: var(--fill-color);\n",
              "      border-top-color: var(--fill-color);\n",
              "      border-right-color: var(--fill-color);\n",
              "    }\n",
              "    40% {\n",
              "      border-color: transparent;\n",
              "      border-right-color: var(--fill-color);\n",
              "      border-top-color: var(--fill-color);\n",
              "    }\n",
              "    60% {\n",
              "      border-color: transparent;\n",
              "      border-right-color: var(--fill-color);\n",
              "    }\n",
              "    80% {\n",
              "      border-color: transparent;\n",
              "      border-right-color: var(--fill-color);\n",
              "      border-bottom-color: var(--fill-color);\n",
              "    }\n",
              "    90% {\n",
              "      border-color: transparent;\n",
              "      border-bottom-color: var(--fill-color);\n",
              "    }\n",
              "  }\n",
              "</style>\n",
              "\n",
              "  <script>\n",
              "    async function quickchart(key) {\n",
              "      const quickchartButtonEl =\n",
              "        document.querySelector('#' + key + ' button');\n",
              "      quickchartButtonEl.disabled = true;  // To prevent multiple clicks.\n",
              "      quickchartButtonEl.classList.add('colab-df-spinner');\n",
              "      try {\n",
              "        const charts = await google.colab.kernel.invokeFunction(\n",
              "            'suggestCharts', [key], {});\n",
              "      } catch (error) {\n",
              "        console.error('Error during call to suggestCharts:', error);\n",
              "      }\n",
              "      quickchartButtonEl.classList.remove('colab-df-spinner');\n",
              "      quickchartButtonEl.classList.add('colab-df-quickchart-complete');\n",
              "    }\n",
              "    (() => {\n",
              "      let quickchartButtonEl =\n",
              "        document.querySelector('#df-1dacc4a0-acd7-4d6b-b376-ecb87e9e6e96 button');\n",
              "      quickchartButtonEl.style.display =\n",
              "        google.colab.kernel.accessAllowed ? 'block' : 'none';\n",
              "    })();\n",
              "  </script>\n",
              "</div>\n",
              "    </div>\n",
              "  </div>\n"
            ]
          },
          "metadata": {},
          "execution_count": 8
        }
      ]
    },
    {
      "cell_type": "code",
      "source": [
        "print(f'➤ The DataFrame(df) contains {df.shape[0]} rows and {df.shape[1]} columns.')"
      ],
      "metadata": {
        "colab": {
          "base_uri": "https://localhost:8080/"
        },
        "id": "dhrst0QCw--r",
        "outputId": "e2f7a682-8d0d-421e-d023-a306cecc4ebe"
      },
      "execution_count": 9,
      "outputs": [
        {
          "output_type": "stream",
          "name": "stdout",
          "text": [
            "➤ The DataFrame(df) contains 45000 rows and 19 columns.\n"
          ]
        }
      ]
    },
    {
      "cell_type": "markdown",
      "source": [
        "Here I can clearly sense that there is a column which is no way can contribute for the price prediction of flight ticket : 1.) flight_id\n",
        "\n",
        "Hence it is better to drop that column before further analysis."
      ],
      "metadata": {
        "id": "RrnyjlWlxDEi"
      }
    },
    {
      "cell_type": "code",
      "source": [
        "df.drop(columns = ['flight_id','departure_time','arrival_time'],inplace=True)"
      ],
      "metadata": {
        "id": "NH9eczdpxD_u"
      },
      "execution_count": 10,
      "outputs": []
    },
    {
      "cell_type": "code",
      "source": [
        "print(f'➤ Now the shape of the Dataframe is {df.shape[0]} rows and {df.shape[1]} columns.')"
      ],
      "metadata": {
        "colab": {
          "base_uri": "https://localhost:8080/"
        },
        "id": "k0N_dPwxxIpi",
        "outputId": "509489b4-18e9-4356-b443-e702ec28317b"
      },
      "execution_count": 11,
      "outputs": [
        {
          "output_type": "stream",
          "name": "stdout",
          "text": [
            "➤ Now the shape of the Dataframe is 45000 rows and 16 columns.\n"
          ]
        }
      ]
    },
    {
      "cell_type": "code",
      "source": [
        "df.head(2)"
      ],
      "metadata": {
        "colab": {
          "base_uri": "https://localhost:8080/",
          "height": 132
        },
        "id": "AkLYFZmfxMRm",
        "outputId": "2d39f56b-8248-4a52-ae3b-f922e164ad54"
      },
      "execution_count": 12,
      "outputs": [
        {
          "output_type": "execute_result",
          "data": {
            "text/plain": [
              "     airline departure_city arrival_city  distance  duration aircraft_type  \\\n",
              "0  Airline B            NaN   Greenshire    8286.0     11.94    Boeing 787   \n",
              "1  Airline C    Leonardland  New Stephen    2942.0      5.29   Airbus A320   \n",
              "\n",
              "   number_of_stops day_of_week month_of_travel holiday_season demand  \\\n",
              "0                0   Wednesday        December         Summer    Low   \n",
              "1                0   Wednesday           March         Spring    Low   \n",
              "\n",
              "  weather_conditions  passenger_count promotion_type  fuel_price  flight_price  \n",
              "0               Rain              240  Special Offer        0.91        643.93  \n",
              "1               Rain              107           None        1.08        423.13  "
            ],
            "text/html": [
              "\n",
              "  <div id=\"df-45858c73-453c-4e55-9a41-d2c374ecdbce\" class=\"colab-df-container\">\n",
              "    <div>\n",
              "<style scoped>\n",
              "    .dataframe tbody tr th:only-of-type {\n",
              "        vertical-align: middle;\n",
              "    }\n",
              "\n",
              "    .dataframe tbody tr th {\n",
              "        vertical-align: top;\n",
              "    }\n",
              "\n",
              "    .dataframe thead th {\n",
              "        text-align: right;\n",
              "    }\n",
              "</style>\n",
              "<table border=\"1\" class=\"dataframe\">\n",
              "  <thead>\n",
              "    <tr style=\"text-align: right;\">\n",
              "      <th></th>\n",
              "      <th>airline</th>\n",
              "      <th>departure_city</th>\n",
              "      <th>arrival_city</th>\n",
              "      <th>distance</th>\n",
              "      <th>duration</th>\n",
              "      <th>aircraft_type</th>\n",
              "      <th>number_of_stops</th>\n",
              "      <th>day_of_week</th>\n",
              "      <th>month_of_travel</th>\n",
              "      <th>holiday_season</th>\n",
              "      <th>demand</th>\n",
              "      <th>weather_conditions</th>\n",
              "      <th>passenger_count</th>\n",
              "      <th>promotion_type</th>\n",
              "      <th>fuel_price</th>\n",
              "      <th>flight_price</th>\n",
              "    </tr>\n",
              "  </thead>\n",
              "  <tbody>\n",
              "    <tr>\n",
              "      <th>0</th>\n",
              "      <td>Airline B</td>\n",
              "      <td>NaN</td>\n",
              "      <td>Greenshire</td>\n",
              "      <td>8286.0</td>\n",
              "      <td>11.94</td>\n",
              "      <td>Boeing 787</td>\n",
              "      <td>0</td>\n",
              "      <td>Wednesday</td>\n",
              "      <td>December</td>\n",
              "      <td>Summer</td>\n",
              "      <td>Low</td>\n",
              "      <td>Rain</td>\n",
              "      <td>240</td>\n",
              "      <td>Special Offer</td>\n",
              "      <td>0.91</td>\n",
              "      <td>643.93</td>\n",
              "    </tr>\n",
              "    <tr>\n",
              "      <th>1</th>\n",
              "      <td>Airline C</td>\n",
              "      <td>Leonardland</td>\n",
              "      <td>New Stephen</td>\n",
              "      <td>2942.0</td>\n",
              "      <td>5.29</td>\n",
              "      <td>Airbus A320</td>\n",
              "      <td>0</td>\n",
              "      <td>Wednesday</td>\n",
              "      <td>March</td>\n",
              "      <td>Spring</td>\n",
              "      <td>Low</td>\n",
              "      <td>Rain</td>\n",
              "      <td>107</td>\n",
              "      <td>None</td>\n",
              "      <td>1.08</td>\n",
              "      <td>423.13</td>\n",
              "    </tr>\n",
              "  </tbody>\n",
              "</table>\n",
              "</div>\n",
              "    <div class=\"colab-df-buttons\">\n",
              "\n",
              "  <div class=\"colab-df-container\">\n",
              "    <button class=\"colab-df-convert\" onclick=\"convertToInteractive('df-45858c73-453c-4e55-9a41-d2c374ecdbce')\"\n",
              "            title=\"Convert this dataframe to an interactive table.\"\n",
              "            style=\"display:none;\">\n",
              "\n",
              "  <svg xmlns=\"http://www.w3.org/2000/svg\" height=\"24px\" viewBox=\"0 -960 960 960\">\n",
              "    <path d=\"M120-120v-720h720v720H120Zm60-500h600v-160H180v160Zm220 220h160v-160H400v160Zm0 220h160v-160H400v160ZM180-400h160v-160H180v160Zm440 0h160v-160H620v160ZM180-180h160v-160H180v160Zm440 0h160v-160H620v160Z\"/>\n",
              "  </svg>\n",
              "    </button>\n",
              "\n",
              "  <style>\n",
              "    .colab-df-container {\n",
              "      display:flex;\n",
              "      gap: 12px;\n",
              "    }\n",
              "\n",
              "    .colab-df-convert {\n",
              "      background-color: #E8F0FE;\n",
              "      border: none;\n",
              "      border-radius: 50%;\n",
              "      cursor: pointer;\n",
              "      display: none;\n",
              "      fill: #1967D2;\n",
              "      height: 32px;\n",
              "      padding: 0 0 0 0;\n",
              "      width: 32px;\n",
              "    }\n",
              "\n",
              "    .colab-df-convert:hover {\n",
              "      background-color: #E2EBFA;\n",
              "      box-shadow: 0px 1px 2px rgba(60, 64, 67, 0.3), 0px 1px 3px 1px rgba(60, 64, 67, 0.15);\n",
              "      fill: #174EA6;\n",
              "    }\n",
              "\n",
              "    .colab-df-buttons div {\n",
              "      margin-bottom: 4px;\n",
              "    }\n",
              "\n",
              "    [theme=dark] .colab-df-convert {\n",
              "      background-color: #3B4455;\n",
              "      fill: #D2E3FC;\n",
              "    }\n",
              "\n",
              "    [theme=dark] .colab-df-convert:hover {\n",
              "      background-color: #434B5C;\n",
              "      box-shadow: 0px 1px 3px 1px rgba(0, 0, 0, 0.15);\n",
              "      filter: drop-shadow(0px 1px 2px rgba(0, 0, 0, 0.3));\n",
              "      fill: #FFFFFF;\n",
              "    }\n",
              "  </style>\n",
              "\n",
              "    <script>\n",
              "      const buttonEl =\n",
              "        document.querySelector('#df-45858c73-453c-4e55-9a41-d2c374ecdbce button.colab-df-convert');\n",
              "      buttonEl.style.display =\n",
              "        google.colab.kernel.accessAllowed ? 'block' : 'none';\n",
              "\n",
              "      async function convertToInteractive(key) {\n",
              "        const element = document.querySelector('#df-45858c73-453c-4e55-9a41-d2c374ecdbce');\n",
              "        const dataTable =\n",
              "          await google.colab.kernel.invokeFunction('convertToInteractive',\n",
              "                                                    [key], {});\n",
              "        if (!dataTable) return;\n",
              "\n",
              "        const docLinkHtml = 'Like what you see? Visit the ' +\n",
              "          '<a target=\"_blank\" href=https://colab.research.google.com/notebooks/data_table.ipynb>data table notebook</a>'\n",
              "          + ' to learn more about interactive tables.';\n",
              "        element.innerHTML = '';\n",
              "        dataTable['output_type'] = 'display_data';\n",
              "        await google.colab.output.renderOutput(dataTable, element);\n",
              "        const docLink = document.createElement('div');\n",
              "        docLink.innerHTML = docLinkHtml;\n",
              "        element.appendChild(docLink);\n",
              "      }\n",
              "    </script>\n",
              "  </div>\n",
              "\n",
              "\n",
              "<div id=\"df-62081660-dcdc-4472-93cd-40363fd176c5\">\n",
              "  <button class=\"colab-df-quickchart\" onclick=\"quickchart('df-62081660-dcdc-4472-93cd-40363fd176c5')\"\n",
              "            title=\"Suggest charts.\"\n",
              "            style=\"display:none;\">\n",
              "\n",
              "<svg xmlns=\"http://www.w3.org/2000/svg\" height=\"24px\"viewBox=\"0 0 24 24\"\n",
              "     width=\"24px\">\n",
              "    <g>\n",
              "        <path d=\"M19 3H5c-1.1 0-2 .9-2 2v14c0 1.1.9 2 2 2h14c1.1 0 2-.9 2-2V5c0-1.1-.9-2-2-2zM9 17H7v-7h2v7zm4 0h-2V7h2v10zm4 0h-2v-4h2v4z\"/>\n",
              "    </g>\n",
              "</svg>\n",
              "  </button>\n",
              "\n",
              "<style>\n",
              "  .colab-df-quickchart {\n",
              "      --bg-color: #E8F0FE;\n",
              "      --fill-color: #1967D2;\n",
              "      --hover-bg-color: #E2EBFA;\n",
              "      --hover-fill-color: #174EA6;\n",
              "      --disabled-fill-color: #AAA;\n",
              "      --disabled-bg-color: #DDD;\n",
              "  }\n",
              "\n",
              "  [theme=dark] .colab-df-quickchart {\n",
              "      --bg-color: #3B4455;\n",
              "      --fill-color: #D2E3FC;\n",
              "      --hover-bg-color: #434B5C;\n",
              "      --hover-fill-color: #FFFFFF;\n",
              "      --disabled-bg-color: #3B4455;\n",
              "      --disabled-fill-color: #666;\n",
              "  }\n",
              "\n",
              "  .colab-df-quickchart {\n",
              "    background-color: var(--bg-color);\n",
              "    border: none;\n",
              "    border-radius: 50%;\n",
              "    cursor: pointer;\n",
              "    display: none;\n",
              "    fill: var(--fill-color);\n",
              "    height: 32px;\n",
              "    padding: 0;\n",
              "    width: 32px;\n",
              "  }\n",
              "\n",
              "  .colab-df-quickchart:hover {\n",
              "    background-color: var(--hover-bg-color);\n",
              "    box-shadow: 0 1px 2px rgba(60, 64, 67, 0.3), 0 1px 3px 1px rgba(60, 64, 67, 0.15);\n",
              "    fill: var(--button-hover-fill-color);\n",
              "  }\n",
              "\n",
              "  .colab-df-quickchart-complete:disabled,\n",
              "  .colab-df-quickchart-complete:disabled:hover {\n",
              "    background-color: var(--disabled-bg-color);\n",
              "    fill: var(--disabled-fill-color);\n",
              "    box-shadow: none;\n",
              "  }\n",
              "\n",
              "  .colab-df-spinner {\n",
              "    border: 2px solid var(--fill-color);\n",
              "    border-color: transparent;\n",
              "    border-bottom-color: var(--fill-color);\n",
              "    animation:\n",
              "      spin 1s steps(1) infinite;\n",
              "  }\n",
              "\n",
              "  @keyframes spin {\n",
              "    0% {\n",
              "      border-color: transparent;\n",
              "      border-bottom-color: var(--fill-color);\n",
              "      border-left-color: var(--fill-color);\n",
              "    }\n",
              "    20% {\n",
              "      border-color: transparent;\n",
              "      border-left-color: var(--fill-color);\n",
              "      border-top-color: var(--fill-color);\n",
              "    }\n",
              "    30% {\n",
              "      border-color: transparent;\n",
              "      border-left-color: var(--fill-color);\n",
              "      border-top-color: var(--fill-color);\n",
              "      border-right-color: var(--fill-color);\n",
              "    }\n",
              "    40% {\n",
              "      border-color: transparent;\n",
              "      border-right-color: var(--fill-color);\n",
              "      border-top-color: var(--fill-color);\n",
              "    }\n",
              "    60% {\n",
              "      border-color: transparent;\n",
              "      border-right-color: var(--fill-color);\n",
              "    }\n",
              "    80% {\n",
              "      border-color: transparent;\n",
              "      border-right-color: var(--fill-color);\n",
              "      border-bottom-color: var(--fill-color);\n",
              "    }\n",
              "    90% {\n",
              "      border-color: transparent;\n",
              "      border-bottom-color: var(--fill-color);\n",
              "    }\n",
              "  }\n",
              "</style>\n",
              "\n",
              "  <script>\n",
              "    async function quickchart(key) {\n",
              "      const quickchartButtonEl =\n",
              "        document.querySelector('#' + key + ' button');\n",
              "      quickchartButtonEl.disabled = true;  // To prevent multiple clicks.\n",
              "      quickchartButtonEl.classList.add('colab-df-spinner');\n",
              "      try {\n",
              "        const charts = await google.colab.kernel.invokeFunction(\n",
              "            'suggestCharts', [key], {});\n",
              "      } catch (error) {\n",
              "        console.error('Error during call to suggestCharts:', error);\n",
              "      }\n",
              "      quickchartButtonEl.classList.remove('colab-df-spinner');\n",
              "      quickchartButtonEl.classList.add('colab-df-quickchart-complete');\n",
              "    }\n",
              "    (() => {\n",
              "      let quickchartButtonEl =\n",
              "        document.querySelector('#df-62081660-dcdc-4472-93cd-40363fd176c5 button');\n",
              "      quickchartButtonEl.style.display =\n",
              "        google.colab.kernel.accessAllowed ? 'block' : 'none';\n",
              "    })();\n",
              "  </script>\n",
              "</div>\n",
              "    </div>\n",
              "  </div>\n"
            ]
          },
          "metadata": {},
          "execution_count": 12
        }
      ]
    },
    {
      "cell_type": "markdown",
      "source": [
        "#**Checking** and Handling Missing Values\n",
        "Checking and Handling Missing Values"
      ],
      "metadata": {
        "id": "j25tkZDTxP1R"
      }
    },
    {
      "cell_type": "code",
      "source": [
        "# looking for the amount of null data in the pandas dataframe\n",
        "df.isnull().sum()"
      ],
      "metadata": {
        "colab": {
          "base_uri": "https://localhost:8080/"
        },
        "id": "N2YbA1dfxUX_",
        "outputId": "a4d4d408-50a8-40a8-af04-2099eb6a07c7"
      },
      "execution_count": 13,
      "outputs": [
        {
          "output_type": "execute_result",
          "data": {
            "text/plain": [
              "airline               3573\n",
              "departure_city         340\n",
              "arrival_city           186\n",
              "distance                91\n",
              "duration                 0\n",
              "aircraft_type           43\n",
              "number_of_stops          0\n",
              "day_of_week            225\n",
              "month_of_travel        267\n",
              "holiday_season           0\n",
              "demand                 317\n",
              "weather_conditions     302\n",
              "passenger_count          0\n",
              "promotion_type         403\n",
              "fuel_price              90\n",
              "flight_price             0\n",
              "dtype: int64"
            ]
          },
          "metadata": {},
          "execution_count": 13
        }
      ]
    },
    {
      "cell_type": "code",
      "source": [
        "# looking for the percentage of null data in the dataframe\n",
        "pd.DataFrame(df.isna().mean()*100).T"
      ],
      "metadata": {
        "colab": {
          "base_uri": "https://localhost:8080/",
          "height": 101
        },
        "id": "RXWrIMSjxZwk",
        "outputId": "b3da7660-c8ef-4a31-ad79-149438d284f4"
      },
      "execution_count": 14,
      "outputs": [
        {
          "output_type": "execute_result",
          "data": {
            "text/plain": [
              "   airline  departure_city  arrival_city  distance  duration  aircraft_type  \\\n",
              "0     7.94        0.755556      0.413333  0.202222       0.0       0.095556   \n",
              "\n",
              "   number_of_stops  day_of_week  month_of_travel  holiday_season    demand  \\\n",
              "0              0.0          0.5         0.593333             0.0  0.704444   \n",
              "\n",
              "   weather_conditions  passenger_count  promotion_type  fuel_price  \\\n",
              "0            0.671111              0.0        0.895556         0.2   \n",
              "\n",
              "   flight_price  \n",
              "0           0.0  "
            ],
            "text/html": [
              "\n",
              "  <div id=\"df-e2322a35-5087-47b5-97fc-901fb5af00ca\" class=\"colab-df-container\">\n",
              "    <div>\n",
              "<style scoped>\n",
              "    .dataframe tbody tr th:only-of-type {\n",
              "        vertical-align: middle;\n",
              "    }\n",
              "\n",
              "    .dataframe tbody tr th {\n",
              "        vertical-align: top;\n",
              "    }\n",
              "\n",
              "    .dataframe thead th {\n",
              "        text-align: right;\n",
              "    }\n",
              "</style>\n",
              "<table border=\"1\" class=\"dataframe\">\n",
              "  <thead>\n",
              "    <tr style=\"text-align: right;\">\n",
              "      <th></th>\n",
              "      <th>airline</th>\n",
              "      <th>departure_city</th>\n",
              "      <th>arrival_city</th>\n",
              "      <th>distance</th>\n",
              "      <th>duration</th>\n",
              "      <th>aircraft_type</th>\n",
              "      <th>number_of_stops</th>\n",
              "      <th>day_of_week</th>\n",
              "      <th>month_of_travel</th>\n",
              "      <th>holiday_season</th>\n",
              "      <th>demand</th>\n",
              "      <th>weather_conditions</th>\n",
              "      <th>passenger_count</th>\n",
              "      <th>promotion_type</th>\n",
              "      <th>fuel_price</th>\n",
              "      <th>flight_price</th>\n",
              "    </tr>\n",
              "  </thead>\n",
              "  <tbody>\n",
              "    <tr>\n",
              "      <th>0</th>\n",
              "      <td>7.94</td>\n",
              "      <td>0.755556</td>\n",
              "      <td>0.413333</td>\n",
              "      <td>0.202222</td>\n",
              "      <td>0.0</td>\n",
              "      <td>0.095556</td>\n",
              "      <td>0.0</td>\n",
              "      <td>0.5</td>\n",
              "      <td>0.593333</td>\n",
              "      <td>0.0</td>\n",
              "      <td>0.704444</td>\n",
              "      <td>0.671111</td>\n",
              "      <td>0.0</td>\n",
              "      <td>0.895556</td>\n",
              "      <td>0.2</td>\n",
              "      <td>0.0</td>\n",
              "    </tr>\n",
              "  </tbody>\n",
              "</table>\n",
              "</div>\n",
              "    <div class=\"colab-df-buttons\">\n",
              "\n",
              "  <div class=\"colab-df-container\">\n",
              "    <button class=\"colab-df-convert\" onclick=\"convertToInteractive('df-e2322a35-5087-47b5-97fc-901fb5af00ca')\"\n",
              "            title=\"Convert this dataframe to an interactive table.\"\n",
              "            style=\"display:none;\">\n",
              "\n",
              "  <svg xmlns=\"http://www.w3.org/2000/svg\" height=\"24px\" viewBox=\"0 -960 960 960\">\n",
              "    <path d=\"M120-120v-720h720v720H120Zm60-500h600v-160H180v160Zm220 220h160v-160H400v160Zm0 220h160v-160H400v160ZM180-400h160v-160H180v160Zm440 0h160v-160H620v160ZM180-180h160v-160H180v160Zm440 0h160v-160H620v160Z\"/>\n",
              "  </svg>\n",
              "    </button>\n",
              "\n",
              "  <style>\n",
              "    .colab-df-container {\n",
              "      display:flex;\n",
              "      gap: 12px;\n",
              "    }\n",
              "\n",
              "    .colab-df-convert {\n",
              "      background-color: #E8F0FE;\n",
              "      border: none;\n",
              "      border-radius: 50%;\n",
              "      cursor: pointer;\n",
              "      display: none;\n",
              "      fill: #1967D2;\n",
              "      height: 32px;\n",
              "      padding: 0 0 0 0;\n",
              "      width: 32px;\n",
              "    }\n",
              "\n",
              "    .colab-df-convert:hover {\n",
              "      background-color: #E2EBFA;\n",
              "      box-shadow: 0px 1px 2px rgba(60, 64, 67, 0.3), 0px 1px 3px 1px rgba(60, 64, 67, 0.15);\n",
              "      fill: #174EA6;\n",
              "    }\n",
              "\n",
              "    .colab-df-buttons div {\n",
              "      margin-bottom: 4px;\n",
              "    }\n",
              "\n",
              "    [theme=dark] .colab-df-convert {\n",
              "      background-color: #3B4455;\n",
              "      fill: #D2E3FC;\n",
              "    }\n",
              "\n",
              "    [theme=dark] .colab-df-convert:hover {\n",
              "      background-color: #434B5C;\n",
              "      box-shadow: 0px 1px 3px 1px rgba(0, 0, 0, 0.15);\n",
              "      filter: drop-shadow(0px 1px 2px rgba(0, 0, 0, 0.3));\n",
              "      fill: #FFFFFF;\n",
              "    }\n",
              "  </style>\n",
              "\n",
              "    <script>\n",
              "      const buttonEl =\n",
              "        document.querySelector('#df-e2322a35-5087-47b5-97fc-901fb5af00ca button.colab-df-convert');\n",
              "      buttonEl.style.display =\n",
              "        google.colab.kernel.accessAllowed ? 'block' : 'none';\n",
              "\n",
              "      async function convertToInteractive(key) {\n",
              "        const element = document.querySelector('#df-e2322a35-5087-47b5-97fc-901fb5af00ca');\n",
              "        const dataTable =\n",
              "          await google.colab.kernel.invokeFunction('convertToInteractive',\n",
              "                                                    [key], {});\n",
              "        if (!dataTable) return;\n",
              "\n",
              "        const docLinkHtml = 'Like what you see? Visit the ' +\n",
              "          '<a target=\"_blank\" href=https://colab.research.google.com/notebooks/data_table.ipynb>data table notebook</a>'\n",
              "          + ' to learn more about interactive tables.';\n",
              "        element.innerHTML = '';\n",
              "        dataTable['output_type'] = 'display_data';\n",
              "        await google.colab.output.renderOutput(dataTable, element);\n",
              "        const docLink = document.createElement('div');\n",
              "        docLink.innerHTML = docLinkHtml;\n",
              "        element.appendChild(docLink);\n",
              "      }\n",
              "    </script>\n",
              "  </div>\n",
              "\n",
              "    </div>\n",
              "  </div>\n"
            ]
          },
          "metadata": {},
          "execution_count": 14
        }
      ]
    },
    {
      "cell_type": "markdown",
      "source": [
        "Handling missing values"
      ],
      "metadata": {
        "id": "jgjTrueBxknD"
      }
    },
    {
      "cell_type": "code",
      "source": [
        "# filling the missing values using statistical techniques\n",
        "\n",
        "df = df.fillna({\n",
        "    'airline': df['airline'].mode()[0],\n",
        "    'departure_city': df['departure_city'].mode()[0],\n",
        "    'arrival_city': df['arrival_city'].mode()[0],\n",
        "    'aircraft_type': df['aircraft_type'].mode()[0],\n",
        "    'day_of_week': df['day_of_week'].mode()[0],\n",
        "    'month_of_travel': df['month_of_travel'].mode()[0],\n",
        "    'demand': df['demand'].mode()[0],\n",
        "    'weather_conditions': df['weather_conditions'].mode()[0],\n",
        "    'promotion_type': df['promotion_type'].mode()[0],\n",
        "})"
      ],
      "metadata": {
        "id": "L-dtMvcuxngt"
      },
      "execution_count": 15,
      "outputs": []
    },
    {
      "cell_type": "code",
      "source": [
        "#condinues data fill with Mean or median\n",
        "# filling the missing values using statistical techniques\n",
        "df = df.fillna({'distance': df['distance'].mean(),\n",
        "               'fuel_price': df['fuel_price'].mean()})"
      ],
      "metadata": {
        "id": "s9ec0OTWxnrU"
      },
      "execution_count": 16,
      "outputs": []
    },
    {
      "cell_type": "code",
      "source": [
        "# cross  checking  for  null  values\n",
        "df.isnull().sum()"
      ],
      "metadata": {
        "colab": {
          "base_uri": "https://localhost:8080/"
        },
        "id": "Twu5f1DkxxVe",
        "outputId": "ede6f09c-5d30-4e0a-ed69-56b1af07ee0b"
      },
      "execution_count": 17,
      "outputs": [
        {
          "output_type": "execute_result",
          "data": {
            "text/plain": [
              "airline               0\n",
              "departure_city        0\n",
              "arrival_city          0\n",
              "distance              0\n",
              "duration              0\n",
              "aircraft_type         0\n",
              "number_of_stops       0\n",
              "day_of_week           0\n",
              "month_of_travel       0\n",
              "holiday_season        0\n",
              "demand                0\n",
              "weather_conditions    0\n",
              "passenger_count       0\n",
              "promotion_type        0\n",
              "fuel_price            0\n",
              "flight_price          0\n",
              "dtype: int64"
            ]
          },
          "metadata": {},
          "execution_count": 17
        }
      ]
    },
    {
      "cell_type": "markdown",
      "source": [
        "**Data Type Correction**"
      ],
      "metadata": {
        "id": "jDII-PRpx0cj"
      }
    },
    {
      "cell_type": "code",
      "source": [
        "df.dtypes"
      ],
      "metadata": {
        "colab": {
          "base_uri": "https://localhost:8080/"
        },
        "id": "9S1vXzY3x1K1",
        "outputId": "214da670-66f2-431c-cffa-e0183faa84c6"
      },
      "execution_count": 18,
      "outputs": [
        {
          "output_type": "execute_result",
          "data": {
            "text/plain": [
              "airline                object\n",
              "departure_city         object\n",
              "arrival_city           object\n",
              "distance              float64\n",
              "duration              float64\n",
              "aircraft_type          object\n",
              "number_of_stops         int64\n",
              "day_of_week            object\n",
              "month_of_travel        object\n",
              "holiday_season         object\n",
              "demand                 object\n",
              "weather_conditions     object\n",
              "passenger_count         int64\n",
              "promotion_type         object\n",
              "fuel_price            float64\n",
              "flight_price          float64\n",
              "dtype: object"
            ]
          },
          "metadata": {},
          "execution_count": 18
        }
      ]
    },
    {
      "cell_type": "code",
      "source": [
        "df.head()"
      ],
      "metadata": {
        "colab": {
          "base_uri": "https://localhost:8080/",
          "height": 244
        },
        "id": "UlqpOvnfyBF8",
        "outputId": "6cb86817-2562-4991-9d02-125178ee265c"
      },
      "execution_count": 19,
      "outputs": [
        {
          "output_type": "execute_result",
          "data": {
            "text/plain": [
              "     airline    departure_city     arrival_city  distance  duration  \\\n",
              "0  Airline B      Port Michael       Greenshire    8286.0     11.94   \n",
              "1  Airline C       Leonardland      New Stephen    2942.0      5.29   \n",
              "2  Airline B  South Dylanville  Port Ambermouth    2468.0      4.41   \n",
              "3  Airline A         Blakefort       Crosbyberg    3145.0      4.96   \n",
              "4  Airline B       Michaelport     Onealborough    5558.0      8.09   \n",
              "\n",
              "  aircraft_type  number_of_stops day_of_week month_of_travel holiday_season  \\\n",
              "0    Boeing 787                0   Wednesday        December         Summer   \n",
              "1   Airbus A320                0   Wednesday           March         Spring   \n",
              "2    Boeing 787                1      Sunday       September         Summer   \n",
              "3    Boeing 787                0      Sunday        February           Fall   \n",
              "4    Boeing 737                1    Thursday         January           None   \n",
              "\n",
              "  demand weather_conditions  passenger_count promotion_type  fuel_price  \\\n",
              "0    Low               Rain              240  Special Offer        0.91   \n",
              "1    Low               Rain              107           None        1.08   \n",
              "2   High             Cloudy              131  Special Offer        0.52   \n",
              "3    Low             Cloudy              170       Discount        0.71   \n",
              "4    Low              Clear              181           None        1.09   \n",
              "\n",
              "   flight_price  \n",
              "0        643.93  \n",
              "1        423.13  \n",
              "2        442.17  \n",
              "3        394.42  \n",
              "4        804.35  "
            ],
            "text/html": [
              "\n",
              "  <div id=\"df-f4550606-2c59-49e4-9c90-9e8c68b00d40\" class=\"colab-df-container\">\n",
              "    <div>\n",
              "<style scoped>\n",
              "    .dataframe tbody tr th:only-of-type {\n",
              "        vertical-align: middle;\n",
              "    }\n",
              "\n",
              "    .dataframe tbody tr th {\n",
              "        vertical-align: top;\n",
              "    }\n",
              "\n",
              "    .dataframe thead th {\n",
              "        text-align: right;\n",
              "    }\n",
              "</style>\n",
              "<table border=\"1\" class=\"dataframe\">\n",
              "  <thead>\n",
              "    <tr style=\"text-align: right;\">\n",
              "      <th></th>\n",
              "      <th>airline</th>\n",
              "      <th>departure_city</th>\n",
              "      <th>arrival_city</th>\n",
              "      <th>distance</th>\n",
              "      <th>duration</th>\n",
              "      <th>aircraft_type</th>\n",
              "      <th>number_of_stops</th>\n",
              "      <th>day_of_week</th>\n",
              "      <th>month_of_travel</th>\n",
              "      <th>holiday_season</th>\n",
              "      <th>demand</th>\n",
              "      <th>weather_conditions</th>\n",
              "      <th>passenger_count</th>\n",
              "      <th>promotion_type</th>\n",
              "      <th>fuel_price</th>\n",
              "      <th>flight_price</th>\n",
              "    </tr>\n",
              "  </thead>\n",
              "  <tbody>\n",
              "    <tr>\n",
              "      <th>0</th>\n",
              "      <td>Airline B</td>\n",
              "      <td>Port Michael</td>\n",
              "      <td>Greenshire</td>\n",
              "      <td>8286.0</td>\n",
              "      <td>11.94</td>\n",
              "      <td>Boeing 787</td>\n",
              "      <td>0</td>\n",
              "      <td>Wednesday</td>\n",
              "      <td>December</td>\n",
              "      <td>Summer</td>\n",
              "      <td>Low</td>\n",
              "      <td>Rain</td>\n",
              "      <td>240</td>\n",
              "      <td>Special Offer</td>\n",
              "      <td>0.91</td>\n",
              "      <td>643.93</td>\n",
              "    </tr>\n",
              "    <tr>\n",
              "      <th>1</th>\n",
              "      <td>Airline C</td>\n",
              "      <td>Leonardland</td>\n",
              "      <td>New Stephen</td>\n",
              "      <td>2942.0</td>\n",
              "      <td>5.29</td>\n",
              "      <td>Airbus A320</td>\n",
              "      <td>0</td>\n",
              "      <td>Wednesday</td>\n",
              "      <td>March</td>\n",
              "      <td>Spring</td>\n",
              "      <td>Low</td>\n",
              "      <td>Rain</td>\n",
              "      <td>107</td>\n",
              "      <td>None</td>\n",
              "      <td>1.08</td>\n",
              "      <td>423.13</td>\n",
              "    </tr>\n",
              "    <tr>\n",
              "      <th>2</th>\n",
              "      <td>Airline B</td>\n",
              "      <td>South Dylanville</td>\n",
              "      <td>Port Ambermouth</td>\n",
              "      <td>2468.0</td>\n",
              "      <td>4.41</td>\n",
              "      <td>Boeing 787</td>\n",
              "      <td>1</td>\n",
              "      <td>Sunday</td>\n",
              "      <td>September</td>\n",
              "      <td>Summer</td>\n",
              "      <td>High</td>\n",
              "      <td>Cloudy</td>\n",
              "      <td>131</td>\n",
              "      <td>Special Offer</td>\n",
              "      <td>0.52</td>\n",
              "      <td>442.17</td>\n",
              "    </tr>\n",
              "    <tr>\n",
              "      <th>3</th>\n",
              "      <td>Airline A</td>\n",
              "      <td>Blakefort</td>\n",
              "      <td>Crosbyberg</td>\n",
              "      <td>3145.0</td>\n",
              "      <td>4.96</td>\n",
              "      <td>Boeing 787</td>\n",
              "      <td>0</td>\n",
              "      <td>Sunday</td>\n",
              "      <td>February</td>\n",
              "      <td>Fall</td>\n",
              "      <td>Low</td>\n",
              "      <td>Cloudy</td>\n",
              "      <td>170</td>\n",
              "      <td>Discount</td>\n",
              "      <td>0.71</td>\n",
              "      <td>394.42</td>\n",
              "    </tr>\n",
              "    <tr>\n",
              "      <th>4</th>\n",
              "      <td>Airline B</td>\n",
              "      <td>Michaelport</td>\n",
              "      <td>Onealborough</td>\n",
              "      <td>5558.0</td>\n",
              "      <td>8.09</td>\n",
              "      <td>Boeing 737</td>\n",
              "      <td>1</td>\n",
              "      <td>Thursday</td>\n",
              "      <td>January</td>\n",
              "      <td>None</td>\n",
              "      <td>Low</td>\n",
              "      <td>Clear</td>\n",
              "      <td>181</td>\n",
              "      <td>None</td>\n",
              "      <td>1.09</td>\n",
              "      <td>804.35</td>\n",
              "    </tr>\n",
              "  </tbody>\n",
              "</table>\n",
              "</div>\n",
              "    <div class=\"colab-df-buttons\">\n",
              "\n",
              "  <div class=\"colab-df-container\">\n",
              "    <button class=\"colab-df-convert\" onclick=\"convertToInteractive('df-f4550606-2c59-49e4-9c90-9e8c68b00d40')\"\n",
              "            title=\"Convert this dataframe to an interactive table.\"\n",
              "            style=\"display:none;\">\n",
              "\n",
              "  <svg xmlns=\"http://www.w3.org/2000/svg\" height=\"24px\" viewBox=\"0 -960 960 960\">\n",
              "    <path d=\"M120-120v-720h720v720H120Zm60-500h600v-160H180v160Zm220 220h160v-160H400v160Zm0 220h160v-160H400v160ZM180-400h160v-160H180v160Zm440 0h160v-160H620v160ZM180-180h160v-160H180v160Zm440 0h160v-160H620v160Z\"/>\n",
              "  </svg>\n",
              "    </button>\n",
              "\n",
              "  <style>\n",
              "    .colab-df-container {\n",
              "      display:flex;\n",
              "      gap: 12px;\n",
              "    }\n",
              "\n",
              "    .colab-df-convert {\n",
              "      background-color: #E8F0FE;\n",
              "      border: none;\n",
              "      border-radius: 50%;\n",
              "      cursor: pointer;\n",
              "      display: none;\n",
              "      fill: #1967D2;\n",
              "      height: 32px;\n",
              "      padding: 0 0 0 0;\n",
              "      width: 32px;\n",
              "    }\n",
              "\n",
              "    .colab-df-convert:hover {\n",
              "      background-color: #E2EBFA;\n",
              "      box-shadow: 0px 1px 2px rgba(60, 64, 67, 0.3), 0px 1px 3px 1px rgba(60, 64, 67, 0.15);\n",
              "      fill: #174EA6;\n",
              "    }\n",
              "\n",
              "    .colab-df-buttons div {\n",
              "      margin-bottom: 4px;\n",
              "    }\n",
              "\n",
              "    [theme=dark] .colab-df-convert {\n",
              "      background-color: #3B4455;\n",
              "      fill: #D2E3FC;\n",
              "    }\n",
              "\n",
              "    [theme=dark] .colab-df-convert:hover {\n",
              "      background-color: #434B5C;\n",
              "      box-shadow: 0px 1px 3px 1px rgba(0, 0, 0, 0.15);\n",
              "      filter: drop-shadow(0px 1px 2px rgba(0, 0, 0, 0.3));\n",
              "      fill: #FFFFFF;\n",
              "    }\n",
              "  </style>\n",
              "\n",
              "    <script>\n",
              "      const buttonEl =\n",
              "        document.querySelector('#df-f4550606-2c59-49e4-9c90-9e8c68b00d40 button.colab-df-convert');\n",
              "      buttonEl.style.display =\n",
              "        google.colab.kernel.accessAllowed ? 'block' : 'none';\n",
              "\n",
              "      async function convertToInteractive(key) {\n",
              "        const element = document.querySelector('#df-f4550606-2c59-49e4-9c90-9e8c68b00d40');\n",
              "        const dataTable =\n",
              "          await google.colab.kernel.invokeFunction('convertToInteractive',\n",
              "                                                    [key], {});\n",
              "        if (!dataTable) return;\n",
              "\n",
              "        const docLinkHtml = 'Like what you see? Visit the ' +\n",
              "          '<a target=\"_blank\" href=https://colab.research.google.com/notebooks/data_table.ipynb>data table notebook</a>'\n",
              "          + ' to learn more about interactive tables.';\n",
              "        element.innerHTML = '';\n",
              "        dataTable['output_type'] = 'display_data';\n",
              "        await google.colab.output.renderOutput(dataTable, element);\n",
              "        const docLink = document.createElement('div');\n",
              "        docLink.innerHTML = docLinkHtml;\n",
              "        element.appendChild(docLink);\n",
              "      }\n",
              "    </script>\n",
              "  </div>\n",
              "\n",
              "\n",
              "<div id=\"df-215d3b9d-3e06-48f0-b0b8-e1e788f83bf3\">\n",
              "  <button class=\"colab-df-quickchart\" onclick=\"quickchart('df-215d3b9d-3e06-48f0-b0b8-e1e788f83bf3')\"\n",
              "            title=\"Suggest charts.\"\n",
              "            style=\"display:none;\">\n",
              "\n",
              "<svg xmlns=\"http://www.w3.org/2000/svg\" height=\"24px\"viewBox=\"0 0 24 24\"\n",
              "     width=\"24px\">\n",
              "    <g>\n",
              "        <path d=\"M19 3H5c-1.1 0-2 .9-2 2v14c0 1.1.9 2 2 2h14c1.1 0 2-.9 2-2V5c0-1.1-.9-2-2-2zM9 17H7v-7h2v7zm4 0h-2V7h2v10zm4 0h-2v-4h2v4z\"/>\n",
              "    </g>\n",
              "</svg>\n",
              "  </button>\n",
              "\n",
              "<style>\n",
              "  .colab-df-quickchart {\n",
              "      --bg-color: #E8F0FE;\n",
              "      --fill-color: #1967D2;\n",
              "      --hover-bg-color: #E2EBFA;\n",
              "      --hover-fill-color: #174EA6;\n",
              "      --disabled-fill-color: #AAA;\n",
              "      --disabled-bg-color: #DDD;\n",
              "  }\n",
              "\n",
              "  [theme=dark] .colab-df-quickchart {\n",
              "      --bg-color: #3B4455;\n",
              "      --fill-color: #D2E3FC;\n",
              "      --hover-bg-color: #434B5C;\n",
              "      --hover-fill-color: #FFFFFF;\n",
              "      --disabled-bg-color: #3B4455;\n",
              "      --disabled-fill-color: #666;\n",
              "  }\n",
              "\n",
              "  .colab-df-quickchart {\n",
              "    background-color: var(--bg-color);\n",
              "    border: none;\n",
              "    border-radius: 50%;\n",
              "    cursor: pointer;\n",
              "    display: none;\n",
              "    fill: var(--fill-color);\n",
              "    height: 32px;\n",
              "    padding: 0;\n",
              "    width: 32px;\n",
              "  }\n",
              "\n",
              "  .colab-df-quickchart:hover {\n",
              "    background-color: var(--hover-bg-color);\n",
              "    box-shadow: 0 1px 2px rgba(60, 64, 67, 0.3), 0 1px 3px 1px rgba(60, 64, 67, 0.15);\n",
              "    fill: var(--button-hover-fill-color);\n",
              "  }\n",
              "\n",
              "  .colab-df-quickchart-complete:disabled,\n",
              "  .colab-df-quickchart-complete:disabled:hover {\n",
              "    background-color: var(--disabled-bg-color);\n",
              "    fill: var(--disabled-fill-color);\n",
              "    box-shadow: none;\n",
              "  }\n",
              "\n",
              "  .colab-df-spinner {\n",
              "    border: 2px solid var(--fill-color);\n",
              "    border-color: transparent;\n",
              "    border-bottom-color: var(--fill-color);\n",
              "    animation:\n",
              "      spin 1s steps(1) infinite;\n",
              "  }\n",
              "\n",
              "  @keyframes spin {\n",
              "    0% {\n",
              "      border-color: transparent;\n",
              "      border-bottom-color: var(--fill-color);\n",
              "      border-left-color: var(--fill-color);\n",
              "    }\n",
              "    20% {\n",
              "      border-color: transparent;\n",
              "      border-left-color: var(--fill-color);\n",
              "      border-top-color: var(--fill-color);\n",
              "    }\n",
              "    30% {\n",
              "      border-color: transparent;\n",
              "      border-left-color: var(--fill-color);\n",
              "      border-top-color: var(--fill-color);\n",
              "      border-right-color: var(--fill-color);\n",
              "    }\n",
              "    40% {\n",
              "      border-color: transparent;\n",
              "      border-right-color: var(--fill-color);\n",
              "      border-top-color: var(--fill-color);\n",
              "    }\n",
              "    60% {\n",
              "      border-color: transparent;\n",
              "      border-right-color: var(--fill-color);\n",
              "    }\n",
              "    80% {\n",
              "      border-color: transparent;\n",
              "      border-right-color: var(--fill-color);\n",
              "      border-bottom-color: var(--fill-color);\n",
              "    }\n",
              "    90% {\n",
              "      border-color: transparent;\n",
              "      border-bottom-color: var(--fill-color);\n",
              "    }\n",
              "  }\n",
              "</style>\n",
              "\n",
              "  <script>\n",
              "    async function quickchart(key) {\n",
              "      const quickchartButtonEl =\n",
              "        document.querySelector('#' + key + ' button');\n",
              "      quickchartButtonEl.disabled = true;  // To prevent multiple clicks.\n",
              "      quickchartButtonEl.classList.add('colab-df-spinner');\n",
              "      try {\n",
              "        const charts = await google.colab.kernel.invokeFunction(\n",
              "            'suggestCharts', [key], {});\n",
              "      } catch (error) {\n",
              "        console.error('Error during call to suggestCharts:', error);\n",
              "      }\n",
              "      quickchartButtonEl.classList.remove('colab-df-spinner');\n",
              "      quickchartButtonEl.classList.add('colab-df-quickchart-complete');\n",
              "    }\n",
              "    (() => {\n",
              "      let quickchartButtonEl =\n",
              "        document.querySelector('#df-215d3b9d-3e06-48f0-b0b8-e1e788f83bf3 button');\n",
              "      quickchartButtonEl.style.display =\n",
              "        google.colab.kernel.accessAllowed ? 'block' : 'none';\n",
              "    })();\n",
              "  </script>\n",
              "</div>\n",
              "    </div>\n",
              "  </div>\n"
            ]
          },
          "metadata": {},
          "execution_count": 19
        }
      ]
    },
    {
      "cell_type": "code",
      "source": [
        "df.shape"
      ],
      "metadata": {
        "colab": {
          "base_uri": "https://localhost:8080/"
        },
        "id": "2wyZPK5uyHR3",
        "outputId": "452aab73-059f-4082-cd4f-a4dd6a8adfc9"
      },
      "execution_count": 20,
      "outputs": [
        {
          "output_type": "execute_result",
          "data": {
            "text/plain": [
              "(45000, 16)"
            ]
          },
          "metadata": {},
          "execution_count": 20
        }
      ]
    },
    {
      "cell_type": "code",
      "source": [
        "# viewing how many columns in the dataframe fall in the object and the numeric data types\n",
        "\n",
        "pd.DataFrame(df.dtypes.value_counts()).T"
      ],
      "metadata": {
        "colab": {
          "base_uri": "https://localhost:8080/",
          "height": 81
        },
        "id": "mvd9gCKOyKbA",
        "outputId": "b7c7adb2-afb3-4e15-bee1-dec648b971f2"
      },
      "execution_count": 21,
      "outputs": [
        {
          "output_type": "execute_result",
          "data": {
            "text/plain": [
              "   object  float64  int64\n",
              "0      10        4      2"
            ],
            "text/html": [
              "\n",
              "  <div id=\"df-24ce7b74-de84-4acd-87c9-95a188e62eba\" class=\"colab-df-container\">\n",
              "    <div>\n",
              "<style scoped>\n",
              "    .dataframe tbody tr th:only-of-type {\n",
              "        vertical-align: middle;\n",
              "    }\n",
              "\n",
              "    .dataframe tbody tr th {\n",
              "        vertical-align: top;\n",
              "    }\n",
              "\n",
              "    .dataframe thead th {\n",
              "        text-align: right;\n",
              "    }\n",
              "</style>\n",
              "<table border=\"1\" class=\"dataframe\">\n",
              "  <thead>\n",
              "    <tr style=\"text-align: right;\">\n",
              "      <th></th>\n",
              "      <th>object</th>\n",
              "      <th>float64</th>\n",
              "      <th>int64</th>\n",
              "    </tr>\n",
              "  </thead>\n",
              "  <tbody>\n",
              "    <tr>\n",
              "      <th>0</th>\n",
              "      <td>10</td>\n",
              "      <td>4</td>\n",
              "      <td>2</td>\n",
              "    </tr>\n",
              "  </tbody>\n",
              "</table>\n",
              "</div>\n",
              "    <div class=\"colab-df-buttons\">\n",
              "\n",
              "  <div class=\"colab-df-container\">\n",
              "    <button class=\"colab-df-convert\" onclick=\"convertToInteractive('df-24ce7b74-de84-4acd-87c9-95a188e62eba')\"\n",
              "            title=\"Convert this dataframe to an interactive table.\"\n",
              "            style=\"display:none;\">\n",
              "\n",
              "  <svg xmlns=\"http://www.w3.org/2000/svg\" height=\"24px\" viewBox=\"0 -960 960 960\">\n",
              "    <path d=\"M120-120v-720h720v720H120Zm60-500h600v-160H180v160Zm220 220h160v-160H400v160Zm0 220h160v-160H400v160ZM180-400h160v-160H180v160Zm440 0h160v-160H620v160ZM180-180h160v-160H180v160Zm440 0h160v-160H620v160Z\"/>\n",
              "  </svg>\n",
              "    </button>\n",
              "\n",
              "  <style>\n",
              "    .colab-df-container {\n",
              "      display:flex;\n",
              "      gap: 12px;\n",
              "    }\n",
              "\n",
              "    .colab-df-convert {\n",
              "      background-color: #E8F0FE;\n",
              "      border: none;\n",
              "      border-radius: 50%;\n",
              "      cursor: pointer;\n",
              "      display: none;\n",
              "      fill: #1967D2;\n",
              "      height: 32px;\n",
              "      padding: 0 0 0 0;\n",
              "      width: 32px;\n",
              "    }\n",
              "\n",
              "    .colab-df-convert:hover {\n",
              "      background-color: #E2EBFA;\n",
              "      box-shadow: 0px 1px 2px rgba(60, 64, 67, 0.3), 0px 1px 3px 1px rgba(60, 64, 67, 0.15);\n",
              "      fill: #174EA6;\n",
              "    }\n",
              "\n",
              "    .colab-df-buttons div {\n",
              "      margin-bottom: 4px;\n",
              "    }\n",
              "\n",
              "    [theme=dark] .colab-df-convert {\n",
              "      background-color: #3B4455;\n",
              "      fill: #D2E3FC;\n",
              "    }\n",
              "\n",
              "    [theme=dark] .colab-df-convert:hover {\n",
              "      background-color: #434B5C;\n",
              "      box-shadow: 0px 1px 3px 1px rgba(0, 0, 0, 0.15);\n",
              "      filter: drop-shadow(0px 1px 2px rgba(0, 0, 0, 0.3));\n",
              "      fill: #FFFFFF;\n",
              "    }\n",
              "  </style>\n",
              "\n",
              "    <script>\n",
              "      const buttonEl =\n",
              "        document.querySelector('#df-24ce7b74-de84-4acd-87c9-95a188e62eba button.colab-df-convert');\n",
              "      buttonEl.style.display =\n",
              "        google.colab.kernel.accessAllowed ? 'block' : 'none';\n",
              "\n",
              "      async function convertToInteractive(key) {\n",
              "        const element = document.querySelector('#df-24ce7b74-de84-4acd-87c9-95a188e62eba');\n",
              "        const dataTable =\n",
              "          await google.colab.kernel.invokeFunction('convertToInteractive',\n",
              "                                                    [key], {});\n",
              "        if (!dataTable) return;\n",
              "\n",
              "        const docLinkHtml = 'Like what you see? Visit the ' +\n",
              "          '<a target=\"_blank\" href=https://colab.research.google.com/notebooks/data_table.ipynb>data table notebook</a>'\n",
              "          + ' to learn more about interactive tables.';\n",
              "        element.innerHTML = '';\n",
              "        dataTable['output_type'] = 'display_data';\n",
              "        await google.colab.output.renderOutput(dataTable, element);\n",
              "        const docLink = document.createElement('div');\n",
              "        docLink.innerHTML = docLinkHtml;\n",
              "        element.appendChild(docLink);\n",
              "      }\n",
              "    </script>\n",
              "  </div>\n",
              "\n",
              "    </div>\n",
              "  </div>\n"
            ]
          },
          "metadata": {},
          "execution_count": 21
        }
      ]
    },
    {
      "cell_type": "code",
      "source": [
        "integer_data_cols = [var for var in df.columns if df[var].dtype == 'int64']\n",
        "integer_data_cols"
      ],
      "metadata": {
        "colab": {
          "base_uri": "https://localhost:8080/"
        },
        "id": "v7j8B_u_yQzb",
        "outputId": "cdda3a82-19f7-4586-9eaa-210b376fb94e"
      },
      "execution_count": 23,
      "outputs": [
        {
          "output_type": "execute_result",
          "data": {
            "text/plain": [
              "['number_of_stops', 'passenger_count']"
            ]
          },
          "metadata": {},
          "execution_count": 23
        }
      ]
    },
    {
      "cell_type": "code",
      "source": [
        "float_data_cols = [var for var in df.columns if df[var].dtype == 'float64']\n",
        "float_data_cols"
      ],
      "metadata": {
        "colab": {
          "base_uri": "https://localhost:8080/"
        },
        "id": "0lq5QL9JyWmB",
        "outputId": "88f19f35-32fd-4aad-bb3e-c195d0466d74"
      },
      "execution_count": 24,
      "outputs": [
        {
          "output_type": "execute_result",
          "data": {
            "text/plain": [
              "['distance', 'duration', 'fuel_price', 'flight_price']"
            ]
          },
          "metadata": {},
          "execution_count": 24
        }
      ]
    },
    {
      "cell_type": "code",
      "source": [
        "object_data_cols = [var for var in df.columns if df[var].dtype == 'object']\n",
        "object_data_cols"
      ],
      "metadata": {
        "colab": {
          "base_uri": "https://localhost:8080/"
        },
        "id": "DIN57-AOyjgB",
        "outputId": "819003c6-b326-430c-f4ad-93fa5b1891e6"
      },
      "execution_count": 25,
      "outputs": [
        {
          "output_type": "execute_result",
          "data": {
            "text/plain": [
              "['airline',\n",
              " 'departure_city',\n",
              " 'arrival_city',\n",
              " 'aircraft_type',\n",
              " 'day_of_week',\n",
              " 'month_of_travel',\n",
              " 'holiday_season',\n",
              " 'demand',\n",
              " 'weather_conditions',\n",
              " 'promotion_type']"
            ]
          },
          "metadata": {},
          "execution_count": 25
        }
      ]
    },
    {
      "cell_type": "markdown",
      "source": [
        "As the number of object data type columns is more it is important to know how each object data column is divided into categories. Let's explore all the categorical columns and know into how many categories they are divided into."
      ],
      "metadata": {
        "id": "BnztvmUAysin"
      }
    },
    {
      "cell_type": "code",
      "source": [
        "for i in object_data_cols:\n",
        "  print(f'Column \"{i}\" is divided into \"{len(df[i].value_counts())}\" categories.')"
      ],
      "metadata": {
        "colab": {
          "base_uri": "https://localhost:8080/"
        },
        "id": "GPOn1KfRytWl",
        "outputId": "9f11e8b5-9361-438b-80bf-cdf01fa2bad5"
      },
      "execution_count": 26,
      "outputs": [
        {
          "output_type": "stream",
          "name": "stdout",
          "text": [
            "Column \"airline\" is divided into \"3\" categories.\n",
            "Column \"departure_city\" is divided into \"23187\" categories.\n",
            "Column \"arrival_city\" is divided into \"23479\" categories.\n",
            "Column \"aircraft_type\" is divided into \"5\" categories.\n",
            "Column \"day_of_week\" is divided into \"7\" categories.\n",
            "Column \"month_of_travel\" is divided into \"12\" categories.\n",
            "Column \"holiday_season\" is divided into \"5\" categories.\n",
            "Column \"demand\" is divided into \"3\" categories.\n",
            "Column \"weather_conditions\" is divided into \"4\" categories.\n",
            "Column \"promotion_type\" is divided into \"3\" categories.\n"
          ]
        }
      ]
    },
    {
      "cell_type": "markdown",
      "source": [
        "*The categorical columns are having too many categories, seems like it is needed to analyze all of them one by one.*"
      ],
      "metadata": {
        "id": "NtBn5QWty00q"
      }
    },
    {
      "cell_type": "code",
      "source": [
        "# for column \"airline\"\n",
        "df['airline'].value_counts()"
      ],
      "metadata": {
        "colab": {
          "base_uri": "https://localhost:8080/"
        },
        "id": "k_UqFIvYy6RX",
        "outputId": "4bfbdfdd-a140-43f4-ad49-3bb6efbba586"
      },
      "execution_count": 28,
      "outputs": [
        {
          "output_type": "execute_result",
          "data": {
            "text/plain": [
              "Airline A    17436\n",
              "Airline C    13809\n",
              "Airline B    13755\n",
              "Name: airline, dtype: int64"
            ]
          },
          "metadata": {},
          "execution_count": 28
        }
      ]
    },
    {
      "cell_type": "code",
      "source": [
        "# for column \"departure_city\"\n",
        "df['departure_city'].value_counts()"
      ],
      "metadata": {
        "colab": {
          "base_uri": "https://localhost:8080/"
        },
        "id": "Mn4rJN5mzJm3",
        "outputId": "583a1617-6c67-4f83-ff0d-e79eb7a73cd9"
      },
      "execution_count": 29,
      "outputs": [
        {
          "output_type": "execute_result",
          "data": {
            "text/plain": [
              "Port Michael         389\n",
              "West Michael          47\n",
              "North Michael         42\n",
              "South Michael         40\n",
              "North David           39\n",
              "                    ... \n",
              "New Jordanchester      1\n",
              "North Morgan           1\n",
              "North Mindy            1\n",
              "Mcmillanberg           1\n",
              "East Patriciafurt      1\n",
              "Name: departure_city, Length: 23187, dtype: int64"
            ]
          },
          "metadata": {},
          "execution_count": 29
        }
      ]
    },
    {
      "cell_type": "code",
      "source": [
        "# for column \"arrival_city\"\n",
        "df['arrival_city'].value_counts()"
      ],
      "metadata": {
        "colab": {
          "base_uri": "https://localhost:8080/"
        },
        "id": "_m4RmKvzywd0",
        "outputId": "6da1106e-42ca-4fa9-d20c-829dd1c22cac"
      },
      "execution_count": 30,
      "outputs": [
        {
          "output_type": "execute_result",
          "data": {
            "text/plain": [
              "North Michael       235\n",
              "Port Michael         47\n",
              "Lake Michael         42\n",
              "New Michael          35\n",
              "Michaelmouth         35\n",
              "                   ... \n",
              "Summerland            1\n",
              "North Lindafurt       1\n",
              "West Waynetown        1\n",
              "North Keithmouth      1\n",
              "Gabrielville          1\n",
              "Name: arrival_city, Length: 23479, dtype: int64"
            ]
          },
          "metadata": {},
          "execution_count": 30
        }
      ]
    },
    {
      "cell_type": "code",
      "source": [
        "# for column \"aircraft_type\"\n",
        "df['aircraft_type'].value_counts()"
      ],
      "metadata": {
        "colab": {
          "base_uri": "https://localhost:8080/"
        },
        "id": "_XyHG_ULzPLT",
        "outputId": "37a60a82-8361-49e6-a99b-aea25a39dadd"
      },
      "execution_count": 31,
      "outputs": [
        {
          "output_type": "execute_result",
          "data": {
            "text/plain": [
              "Airbus A320    9154\n",
              "Boeing 777     9059\n",
              "Boeing 787     8952\n",
              "Airbus A380    8943\n",
              "Boeing 737     8892\n",
              "Name: aircraft_type, dtype: int64"
            ]
          },
          "metadata": {},
          "execution_count": 31
        }
      ]
    },
    {
      "cell_type": "code",
      "source": [
        "#for column \"day_of_week\"\n",
        "df['day_of_week'].value_counts()"
      ],
      "metadata": {
        "colab": {
          "base_uri": "https://localhost:8080/"
        },
        "id": "tA6Bs3xczSbr",
        "outputId": "419392bc-b7de-4eae-fcc5-2c319987b35f"
      },
      "execution_count": 32,
      "outputs": [
        {
          "output_type": "execute_result",
          "data": {
            "text/plain": [
              "Sunday       6697\n",
              "Saturday     6418\n",
              "Friday       6414\n",
              "Monday       6407\n",
              "Wednesday    6406\n",
              "Tuesday      6336\n",
              "Thursday     6322\n",
              "Name: day_of_week, dtype: int64"
            ]
          },
          "metadata": {},
          "execution_count": 32
        }
      ]
    },
    {
      "cell_type": "code",
      "source": [
        "# for column \"month_of_travel\"\n",
        "df['month_of_travel'].value_counts()"
      ],
      "metadata": {
        "colab": {
          "base_uri": "https://localhost:8080/"
        },
        "id": "zoJ1yqtXzVlA",
        "outputId": "ebd8ba2e-5953-43a1-fb3e-f51d536ac4bb"
      },
      "execution_count": 33,
      "outputs": [
        {
          "output_type": "execute_result",
          "data": {
            "text/plain": [
              "January      4110\n",
              "October      3812\n",
              "April        3776\n",
              "July         3755\n",
              "November     3749\n",
              "September    3731\n",
              "March        3727\n",
              "August       3712\n",
              "December     3700\n",
              "June         3672\n",
              "May          3658\n",
              "February     3598\n",
              "Name: month_of_travel, dtype: int64"
            ]
          },
          "metadata": {},
          "execution_count": 33
        }
      ]
    },
    {
      "cell_type": "code",
      "source": [
        "# for column \"holiday_season\"\n",
        "df['holiday_season'].value_counts()"
      ],
      "metadata": {
        "colab": {
          "base_uri": "https://localhost:8080/"
        },
        "id": "B1fdCBi2zZU4",
        "outputId": "4ef49f63-bb14-47fc-f600-1677be9a9012"
      },
      "execution_count": 34,
      "outputs": [
        {
          "output_type": "execute_result",
          "data": {
            "text/plain": [
              "Spring    9036\n",
              "None      9020\n",
              "Fall      9010\n",
              "Summer    8970\n",
              "Winter    8964\n",
              "Name: holiday_season, dtype: int64"
            ]
          },
          "metadata": {},
          "execution_count": 34
        }
      ]
    },
    {
      "cell_type": "code",
      "source": [
        "# for column \"demand\"\n",
        "df['demand'].value_counts()"
      ],
      "metadata": {
        "colab": {
          "base_uri": "https://localhost:8080/"
        },
        "id": "yloE82NBzZW-",
        "outputId": "759a675a-a6ca-41ca-bff5-718ab4ad5b94"
      },
      "execution_count": 35,
      "outputs": [
        {
          "output_type": "execute_result",
          "data": {
            "text/plain": [
              "Low       29263\n",
              "Medium     8954\n",
              "High       6783\n",
              "Name: demand, dtype: int64"
            ]
          },
          "metadata": {},
          "execution_count": 35
        }
      ]
    },
    {
      "cell_type": "code",
      "source": [
        "# for column \"weather_conditions\"\n",
        "df['weather_conditions'].value_counts()"
      ],
      "metadata": {
        "colab": {
          "base_uri": "https://localhost:8080/"
        },
        "id": "pitFlBxnzgo9",
        "outputId": "4967673e-0530-4965-f204-0b1ad240d389"
      },
      "execution_count": 36,
      "outputs": [
        {
          "output_type": "execute_result",
          "data": {
            "text/plain": [
              "Cloudy    11711\n",
              "Snow      11148\n",
              "Rain      11093\n",
              "Clear     11048\n",
              "Name: weather_conditions, dtype: int64"
            ]
          },
          "metadata": {},
          "execution_count": 36
        }
      ]
    },
    {
      "cell_type": "code",
      "source": [
        "# for column \"promotion_type\"\n",
        "df['promotion_type'].value_counts()"
      ],
      "metadata": {
        "colab": {
          "base_uri": "https://localhost:8080/"
        },
        "id": "9Zs2RcPazgrD",
        "outputId": "b379afa6-8031-4c6e-862f-8108c9e1bfca"
      },
      "execution_count": 37,
      "outputs": [
        {
          "output_type": "execute_result",
          "data": {
            "text/plain": [
              "Special Offer    15299\n",
              "Discount         14889\n",
              "None             14812\n",
              "Name: promotion_type, dtype: int64"
            ]
          },
          "metadata": {},
          "execution_count": 37
        }
      ]
    },
    {
      "cell_type": "code",
      "source": [
        "df = df.drop_duplicates()"
      ],
      "metadata": {
        "id": "LPNNp1YRzgt4"
      },
      "execution_count": 38,
      "outputs": []
    },
    {
      "cell_type": "code",
      "source": [
        "df.shape"
      ],
      "metadata": {
        "colab": {
          "base_uri": "https://localhost:8080/"
        },
        "id": "dTS0FbUkzZaD",
        "outputId": "e91b4790-7f9d-488a-b041-63d217d5070f"
      },
      "execution_count": 39,
      "outputs": [
        {
          "output_type": "execute_result",
          "data": {
            "text/plain": [
              "(45000, 16)"
            ]
          },
          "metadata": {},
          "execution_count": 39
        }
      ]
    },
    {
      "cell_type": "markdown",
      "source": [
        "**Data Visualization.**"
      ],
      "metadata": {
        "id": "Q66MrhWZ0xiL"
      }
    }
  ]
}